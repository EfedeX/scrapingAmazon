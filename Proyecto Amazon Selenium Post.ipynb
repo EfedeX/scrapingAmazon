{
 "cells": [
  {
   "cell_type": "code",
   "execution_count": 73,
   "metadata": {},
   "outputs": [],
   "source": [
    "from selenium import webdriver\n",
    "import requests\n",
    "from bs4 import beautifulsoup"
   ]
  },
  {
   "cell_type": "code",
   "execution_count": 76,
   "metadata": {},
   "outputs": [],
   "source": [
    "url = 'https://www.amazon.es/Apple-MB571Z-Adaptador-DisplayPort-Dual-Link/dp/B001IF252C/ref=sr_1_1_sspa?__mk_es_ES=%C3%85M%C3%85%C5%BD%C3%95%C3%91&keywords=apple&qid=1563975312&s=gateway&sr=8-1-spons&psc=1'"
   ]
  },
  {
   "cell_type": "code",
   "execution_count": null,
   "metadata": {},
   "outputs": [],
   "source": [
    "browser = webdriver.Chrome()\n",
    "browser.get(url)"
   ]
  },
  {
   "cell_type": "code",
   "execution_count": null,
   "metadata": {},
   "outputs": [],
   "source": [
    "response =browser.page_source"
   ]
  },
  {
   "cell_type": "code",
   "execution_count": null,
   "metadata": {},
   "outputs": [],
   "source": [
    "soup = BeautifulSoup(response, 'html.parser')"
   ]
  },
  {
   "cell_type": "code",
   "execution_count": 42,
   "metadata": {},
   "outputs": [
    {
     "data": {
      "text/plain": [
       "'Apple Adaptador de Mini DisplayPort a DVI de doble canal'"
      ]
     },
     "execution_count": 42,
     "metadata": {},
     "output_type": "execute_result"
    }
   ],
   "source": [
    "titulo= soup.find(name=\"span\", attrs={\"id\": \"productTitle\"}).get_text().strip()\n",
    "titulo"
   ]
  },
  {
   "cell_type": "code",
   "execution_count": 57,
   "metadata": {},
   "outputs": [],
   "source": [
    "def extraeDatos(url_Lista):\n",
    "    \n",
    "  browser = webdriver.Chrome()\n",
    "  browser.get(url_Lista)\n",
    "  soup_detalle = BeautifulSoup(browser.page_source, 'html.parser') \n",
    "  #pagina_Detalle = requests.get(url_Lista)\n",
    "  #soup_detalle = BeautifulSoup(markup=pagina_Detalle.content, features='html.parser')\n",
    "  \n",
    "  \n",
    "  try:\n",
    "    titulo = soup_detalle.find(name=\"span\", attrs={\"id\": \"productTitle\"}).get_text().strip()\n",
    "  except AttributeError:\n",
    "    titulo=None\n",
    "  \n",
    "  try:\n",
    "    opiniones = soup_detalle.find(name=\"span\", attrs={\"id\": \"acrCustomerReviewText\"}).get_text() \n",
    "  except AttributeError:\n",
    "    opiniones=None\n",
    "  \n",
    "  try:\n",
    "    precio = soup_detalle.find(name=\"span\", attrs={\"id\": \"priceblock_ourprice\"}).get_text()  \n",
    "  except AttributeError:\n",
    "    precio=None\n",
    "  \n",
    "  try:\n",
    "    precio2=precio.replace('\\xa0', ' ')\n",
    "  except AttributeError:\n",
    "    precio2=None\n",
    "\n",
    "   \n",
    "      \n",
    "  consolidado = {\n",
    "          \"url\" : url_Lista,\n",
    "          \"titulo\": titulo,\n",
    "          \"opiniones\" :opiniones,\n",
    "          \"precio\": precio2,         \n",
    "  }  \n",
    "  \n",
    "  return consolidado"
   ]
  },
  {
   "cell_type": "code",
   "execution_count": 71,
   "metadata": {},
   "outputs": [
    {
     "data": {
      "text/plain": [
       "{'opiniones': '41 opiniones de clientes',\n",
       " 'precio': '2.400,77 €',\n",
       " 'titulo': 'Apple Adaptador de Mini DisplayPort a DVI de doble canal',\n",
       " 'url': 'https://www.amazon.es/Apple-MB571Z-Adaptador-DisplayPort-Dual-Link/dp/B001IF252C/ref=sr_1_1_sspa?__mk_es_ES=%C3%85M%C3%85%C5%BD%C3%95%C3%91&keywords=apple&qid=1563975312&s=gateway&sr=8-1-spons&psc=1'}"
      ]
     },
     "execution_count": 71,
     "metadata": {},
     "output_type": "execute_result"
    }
   ],
   "source": [
    "extraeDatos('https://www.amazon.es/Apple-MB571Z-Adaptador-DisplayPort-Dual-Link/dp/B001IF252C/ref=sr_1_1_sspa?__mk_es_ES=%C3%85M%C3%85%C5%BD%C3%95%C3%91&keywords=apple&qid=1563975312&s=gateway&sr=8-1-spons&psc=1')"
   ]
  }
 ],
 "metadata": {
  "kernelspec": {
   "display_name": "Python 3",
   "language": "python",
   "name": "python3"
  },
  "language_info": {
   "codemirror_mode": {
    "name": "ipython",
    "version": 3
   },
   "file_extension": ".py",
   "mimetype": "text/x-python",
   "name": "python",
   "nbconvert_exporter": "python",
   "pygments_lexer": "ipython3",
   "version": "3.6.3"
  }
 },
 "nbformat": 4,
 "nbformat_minor": 1
}
