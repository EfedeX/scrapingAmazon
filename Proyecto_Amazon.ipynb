{
  "nbformat": 4,
  "nbformat_minor": 0,
  "metadata": {
    "colab": {
      "name": "Copia de Proyecto Amazon.ipynb",
      "version": "0.3.2",
      "provenance": [],
      "collapsed_sections": []
    },
    "kernelspec": {
      "name": "python3",
      "display_name": "Python 3"
    }
  },
  "cells": [
    {
      "cell_type": "markdown",
      "metadata": {
        "id": "vcZWUJgd0AqX",
        "colab_type": "text"
      },
      "source": [
        "**Importando librerías y probando conexión a la página web**"
      ]
    },
    {
      "cell_type": "code",
      "metadata": {
        "id": "cfBY-fNBMkBI",
        "colab_type": "code",
        "colab": {}
      },
      "source": [
        "!pip install beautifulsoup4"
      ],
      "execution_count": 0,
      "outputs": []
    },
    {
      "cell_type": "code",
      "metadata": {
        "id": "CRR6XVejMlEq",
        "colab_type": "code",
        "colab": {}
      },
      "source": [
        "# importar la librería requests\n",
        "import requests\n",
        "# importar la librería BeautifulSoup\n",
        "from bs4 import BeautifulSoup\n",
        "import pandas as pd"
      ],
      "execution_count": 0,
      "outputs": []
    },
    {
      "cell_type": "code",
      "metadata": {
        "id": "wT7121G8MyPT",
        "colab_type": "code",
        "colab": {}
      },
      "source": [
        "url = 'https://www.amazon.es/s?k=aspiradoras&page=1&__mk_es_ES=%C3%85M%C3%85%C5%BD%C3%95%C3%91&qid=1563136839&ref=sr_pg_1'"
      ],
      "execution_count": 0,
      "outputs": []
    },
    {
      "cell_type": "code",
      "metadata": {
        "id": "JP9SzaCXOQ-v",
        "colab_type": "code",
        "colab": {}
      },
      "source": [
        "# Hagamos una petición a la url usando el método get del módulo requests\n",
        "page = requests.get(url)\n",
        "print(page.content)"
      ],
      "execution_count": 0,
      "outputs": []
    },
    {
      "cell_type": "code",
      "metadata": {
        "id": "NvIRvnRpRgyf",
        "colab_type": "code",
        "colab": {}
      },
      "source": [
        "soup = BeautifulSoup(markup=page.content, features='html.parser')"
      ],
      "execution_count": 0,
      "outputs": []
    },
    {
      "cell_type": "code",
      "metadata": {
        "id": "OtYmfvaCRj5U",
        "colab_type": "code",
        "colab": {}
      },
      "source": [
        "soup.prettify"
      ],
      "execution_count": 0,
      "outputs": []
    },
    {
      "cell_type": "code",
      "metadata": {
        "id": "-Og_NuloRmq-",
        "colab_type": "code",
        "colab": {}
      },
      "source": [
        "soup.title"
      ],
      "execution_count": 0,
      "outputs": []
    },
    {
      "cell_type": "markdown",
      "metadata": {
        "id": "6PSxEAsBz-Zf",
        "colab_type": "text"
      },
      "source": [
        "**Creando la lista de URL'S (Probamos con 15 páginas de búsqueda de aspiradoras)**"
      ]
    },
    {
      "cell_type": "code",
      "metadata": {
        "id": "nc-xnFMDl4Dm",
        "colab_type": "code",
        "colab": {}
      },
      "source": [
        "url_busca=[]\n",
        "for i in range(1,15):\n",
        "  url_busqueda= 'https://www.amazon.es/s?k=aspiradoras&page='+str(i)+'&__mk_es_ES=%C3%85M%C3%85%C5%BD%C3%95%C3%91&qid=1563136839&ref=sr_pg_'+str(i)\n",
        "  url_busca.append(url_busqueda)"
      ],
      "execution_count": 0,
      "outputs": []
    },
    {
      "cell_type": "code",
      "metadata": {
        "id": "0zE_Tu-umDrf",
        "colab_type": "code",
        "colab": {}
      },
      "source": [
        "url_busca"
      ],
      "execution_count": 0,
      "outputs": []
    },
    {
      "cell_type": "markdown",
      "metadata": {
        "id": "oI0RtzWC0UHq",
        "colab_type": "text"
      },
      "source": [
        "**Obteniendo las URLs de cada producto de las primeras 15 páginas**"
      ]
    },
    {
      "cell_type": "code",
      "metadata": {
        "id": "_NeUngpRsTdz",
        "colab_type": "code",
        "colab": {}
      },
      "source": [
        "dataUrls = []\n",
        "for a in url_busca:\n",
        "  # Hagamos una petición a la url usando el método get del módulo requests\n",
        "  page = requests.get(url)\n",
        "  soup = BeautifulSoup(markup=page.content, features='html.parser')\n",
        "  # Encontremos el elemento que contenga los avisos de los inmuebles usando el método find\n",
        "  \n",
        "  productos_ = [\"https://www.amazon.es\"+ s.get('href') for s in soup.find_all(name=\"a\", attrs={\"class\": \"a-link-normal a-text-normal\"})]\n",
        "  #productos_ = soup.find_all(name=\"a\", attrs={\"class\": \"a-link-normal a-text-normal\"})\n",
        "  for links in range(0,len(productos_)-1):\n",
        "  #for i in range(0,len(productos_)-1):\n",
        "  # link_producto='https://www.amazon.es'+productos_[i].get(\"href\")\n",
        "    linkA = productos_[links]\n",
        "    dataUrls.append(linkA)\n",
        "len(dataUrls) "
      ],
      "execution_count": 0,
      "outputs": []
    },
    {
      "cell_type": "code",
      "metadata": {
        "id": "zi6Ejfs3to8n",
        "colab_type": "code",
        "colab": {}
      },
      "source": [
        "len(dataUrls)"
      ],
      "execution_count": 0,
      "outputs": []
    },
    {
      "cell_type": "code",
      "metadata": {
        "id": "tRmlQqr3trFs",
        "colab_type": "code",
        "colab": {}
      },
      "source": [
        "type(dataUrls)"
      ],
      "execution_count": 0,
      "outputs": []
    },
    {
      "cell_type": "markdown",
      "metadata": {
        "id": "XXWv2LAiDhpi",
        "colab_type": "text"
      },
      "source": [
        "**Probando con una URL de un producto**"
      ]
    },
    {
      "cell_type": "code",
      "metadata": {
        "id": "KatmM-3UC6fc",
        "colab_type": "code",
        "colab": {}
      },
      "source": [
        "url_Lista='https://www.amazon.es/Aspiradora-Aspirador-Aspiradoras-Inoxidable-Boquillas/dp/B07K9JZ6SB'"
      ],
      "execution_count": 0,
      "outputs": []
    },
    {
      "cell_type": "code",
      "metadata": {
        "id": "14WFEuvGD30j",
        "colab_type": "code",
        "colab": {}
      },
      "source": [
        "pagina_Detalle = requests.get(url_Lista)\n",
        "soup_detalle = BeautifulSoup(markup=pagina_Detalle.content, features='html.parser')\n",
        "soup_detalle.prettify"
      ],
      "execution_count": 0,
      "outputs": []
    },
    {
      "cell_type": "code",
      "metadata": {
        "id": "BZvHjQ2SEGWt",
        "colab_type": "code",
        "colab": {}
      },
      "source": [
        "titulo = soup_detalle.find(name=\"span\", attrs={\"id\": \"productTitle\"}).get_text()"
      ],
      "execution_count": 0,
      "outputs": []
    },
    {
      "cell_type": "code",
      "metadata": {
        "id": "3VB9LROcEMiv",
        "colab_type": "code",
        "colab": {}
      },
      "source": [
        "titulo.strip()"
      ],
      "execution_count": 0,
      "outputs": []
    },
    {
      "cell_type": "code",
      "metadata": {
        "id": "laZCeUxSE8cP",
        "colab_type": "code",
        "colab": {}
      },
      "source": [
        "opiniones = soup_detalle.find(name=\"span\", attrs={\"id\": \"acrCustomerReviewText\"}).get_text() "
      ],
      "execution_count": 0,
      "outputs": []
    },
    {
      "cell_type": "code",
      "metadata": {
        "id": "5BEL0q26FGLm",
        "colab_type": "code",
        "colab": {}
      },
      "source": [
        "opiniones"
      ],
      "execution_count": 0,
      "outputs": []
    },
    {
      "cell_type": "code",
      "metadata": {
        "id": "_iNOJgI0FZ7e",
        "colab_type": "code",
        "colab": {}
      },
      "source": [
        "precio = soup_detalle.find(name=\"span\", attrs={\"id\": \"priceblock_ourprice\"}).get_text()  "
      ],
      "execution_count": 0,
      "outputs": []
    },
    {
      "cell_type": "code",
      "metadata": {
        "id": "i5ldkF8YFdnT",
        "colab_type": "code",
        "colab": {}
      },
      "source": [
        "precio.replace('\\xa0', ' ')"
      ],
      "execution_count": 0,
      "outputs": []
    },
    {
      "cell_type": "code",
      "metadata": {
        "id": "F1MtWSkHF6pV",
        "colab_type": "code",
        "colab": {}
      },
      "source": [
        "tabla_atributos = soup_detalle.find(name=\"div\", attrs={\"class\": \"pdTab\"})#.get_text()  "
      ],
      "execution_count": 0,
      "outputs": []
    },
    {
      "cell_type": "code",
      "metadata": {
        "id": "EVyW25qkaOqM",
        "colab_type": "code",
        "colab": {}
      },
      "source": [
        "tabla_atributos"
      ],
      "execution_count": 0,
      "outputs": []
    },
    {
      "cell_type": "code",
      "metadata": {
        "id": "bIQXC3J4xjrs",
        "colab_type": "code",
        "colab": {}
      },
      "source": [
        "#tabla_atributos.find_all(\"tr\")\n",
        "i=0\n",
        "for a in tabla_atributos.find_all(\"tr\"):\n",
        "  \n",
        "  if a.find_all(\"td\")[i].get_text()=='Marca':\n",
        "    print(a.find_all(\"td\")[i+1].get_text())\n",
        "    i+=1"
      ],
      "execution_count": 0,
      "outputs": []
    },
    {
      "cell_type": "code",
      "metadata": {
        "id": "TeJeny1VVU6-",
        "colab_type": "code",
        "colab": {}
      },
      "source": [
        "marca = tabla_atributos.find_all(\"tr\")[0].find_all(\"td\")[1].get_text()\n",
        "marca"
      ],
      "execution_count": 0,
      "outputs": []
    },
    {
      "cell_type": "code",
      "metadata": {
        "id": "LZv4TQ-X22Ur",
        "colab_type": "code",
        "colab": {}
      },
      "source": [
        "i=0\n",
        "for a in tabla_atributos.find_all(\"tr\"):  \n",
        "  if a.find_all(\"td\")[i].get_text()=='Número de modelo':\n",
        "    modelo=a.find_all(\"td\")[i+1].get_text()\n",
        "    i+=1      \n",
        "\n",
        "\n",
        "print(modelo)"
      ],
      "execution_count": 0,
      "outputs": []
    },
    {
      "cell_type": "code",
      "metadata": {
        "id": "yC9XHgU3Z8pZ",
        "colab_type": "code",
        "colab": {}
      },
      "source": [
        "modelo = tabla_atributos.find_all(\"tr\")[1].find_all(\"td\")[1].get_text()\n",
        "modelo"
      ],
      "execution_count": 0,
      "outputs": []
    },
    {
      "cell_type": "code",
      "metadata": {
        "id": "Ab6YZGssa0JG",
        "colab_type": "code",
        "colab": {}
      },
      "source": [
        "color = tabla_atributos.find_all(\"tr\")[2].find_all(\"td\")[1].get_text()\n",
        "color"
      ],
      "execution_count": 0,
      "outputs": []
    },
    {
      "cell_type": "code",
      "metadata": {
        "id": "X5q1_zTfbmxX",
        "colab_type": "code",
        "colab": {}
      },
      "source": [
        "peso = tabla_atributos.find_all(\"tr\")[3].find_all(\"td\")[1].get_text()\n",
        "peso"
      ],
      "execution_count": 0,
      "outputs": []
    },
    {
      "cell_type": "code",
      "metadata": {
        "id": "vkds-adkcNzH",
        "colab_type": "code",
        "colab": {}
      },
      "source": [
        "dimension = tabla_atributos.find_all(\"tr\")[4].find_all(\"td\")[1].get_text()\n",
        "dimension"
      ],
      "execution_count": 0,
      "outputs": []
    },
    {
      "cell_type": "code",
      "metadata": {
        "id": "OFslvxOcdKIL",
        "colab_type": "code",
        "colab": {}
      },
      "source": [
        "volumen = tabla_atributos.find_all(\"tr\")[6].find_all(\"td\")[1].get_text()\n",
        "volumen"
      ],
      "execution_count": 0,
      "outputs": []
    },
    {
      "cell_type": "code",
      "metadata": {
        "id": "s1HtuKHcdODA",
        "colab_type": "code",
        "colab": {}
      },
      "source": [
        "potencia = tabla_atributos.find_all(\"tr\")[7].find_all(\"td\")[1].get_text()\n",
        "potencia"
      ],
      "execution_count": 0,
      "outputs": []
    },
    {
      "cell_type": "code",
      "metadata": {
        "id": "kdQnnSi9YEuw",
        "colab_type": "code",
        "colab": {}
      },
      "source": [
        "#rows = soup.find(\"table\", border=1).find(\"tbody\").find_all(\"tr\")\n",
        "\n",
        "#for row in rows:\n",
        " #   cells = row.find_all(\"td\")\n",
        " #   rn = cells[0].get_text()"
      ],
      "execution_count": 0,
      "outputs": []
    },
    {
      "cell_type": "markdown",
      "metadata": {
        "id": "Lf4SwJsA1Bzo",
        "colab_type": "text"
      },
      "source": [
        "**Creamos la función para obtener los datos de cada producto**"
      ]
    },
    {
      "cell_type": "code",
      "metadata": {
        "id": "uyMnL8YTPB5k",
        "colab_type": "code",
        "colab": {}
      },
      "source": [
        "def extraeDatos(url_Lista):\n",
        "  global modelo,potencia,marca,color,volumen,dimension,peso\n",
        "  pagina_Detalle = requests.get(url_Lista)\n",
        "  soup_detalle = BeautifulSoup(markup=pagina_Detalle.content, features='html.parser')\n",
        "  \n",
        "  \n",
        "  try:\n",
        "    titulo = soup_detalle.find(name=\"span\", attrs={\"id\": \"productTitle\"}).get_text().strip()\n",
        "  except AttributeError:\n",
        "    titulo=None\n",
        "  \n",
        "  try:\n",
        "    opiniones = soup_detalle.find(name=\"span\", attrs={\"id\": \"acrCustomerReviewText\"}).get_text() \n",
        "  except AttributeError:\n",
        "    opiniones=None\n",
        "  \n",
        "  try:\n",
        "    precio = soup_detalle.find(name=\"span\", attrs={\"id\": \"priceblock_ourprice\"}).get_text()  \n",
        "  except AttributeError:\n",
        "    precio=None\n",
        "  \n",
        "  try:\n",
        "    precio2=precio.replace('\\xa0', ' ')\n",
        "  except AttributeError:\n",
        "    precio2=None\n",
        "\n",
        "  tabla_atributos = soup_detalle.find(name=\"div\", attrs={\"class\": \"pdTab\"})#.get_text() \n",
        "  \n",
        "  i=0\n",
        "  try:    \n",
        "    for a in tabla_atributos.find_all(\"tr\"):\n",
        "      if a.find_all(\"td\")[i].get_text()=='Marca':\n",
        "        marca=a.find_all(\"td\")[i+1].get_text()\n",
        "        i+=1     \n",
        "  except AttributeError:\n",
        "        marca=None\n",
        "      \n",
        "  j=0\n",
        "  try:    \n",
        "    for a in tabla_atributos.find_all(\"tr\"):\n",
        "      if a.find_all(\"td\")[j].get_text()=='Número de modelo':\n",
        "        modelo=a.find_all(\"td\")[j+1].get_text()\n",
        "        j+=1     \n",
        "  except AttributeError:\n",
        "        modelo=None\n",
        "\n",
        "  k=0\n",
        "  try:    \n",
        "    for a in tabla_atributos.find_all(\"tr\"):\n",
        "      if a.find_all(\"td\")[k].get_text()=='Color':\n",
        "        color=a.find_all(\"td\")[k+1].get_text()\n",
        "        k+=1\n",
        "  except AttributeError:\n",
        "        color=None\n",
        "  \n",
        "  i=0\n",
        "  try:    \n",
        "    for a in tabla_atributos.find_all(\"tr\"):\n",
        "      if a.find_all(\"td\")[i].get_text()=='Peso del producto':\n",
        "        peso=a.find_all(\"td\")[i+1].get_text()\n",
        "        i+=1\n",
        "  except AttributeError:\n",
        "        peso=None\n",
        "  \n",
        " \n",
        "  i=0\n",
        "  try:    \n",
        "    for a in tabla_atributos.find_all(\"tr\"):\n",
        "      if a.find_all(\"td\")[i].get_text()=='Dimensiones del producto':\n",
        "        dimension=a.find_all(\"td\")[i+1].get_text()\n",
        "        i+=1\n",
        "  except AttributeError:\n",
        "        dimension=None\n",
        " \n",
        " \n",
        "  i=0\n",
        "  try:    \n",
        "    for a in tabla_atributos.find_all(\"tr\"):\n",
        "      if a.find_all(\"td\")[i].get_text()=='Volumen':\n",
        "        volumen=a.find_all(\"td\")[i+1].get_text()\n",
        "        i+=1\n",
        "  except AttributeError:\n",
        "        volumen=None\n",
        "   \n",
        "   \n",
        "  i=0\n",
        "  try:    \n",
        "    for a in tabla_atributos.find_all(\"tr\"):\n",
        "      if a.find_all(\"td\")[i].get_text()=='Potencia':\n",
        "        potencia=a.find_all(\"td\")[i+1].get_text()\n",
        "        i+=1\n",
        "  except AttributeError:\n",
        "        potencia=None\n",
        "      \n",
        "  consolidado = {\n",
        "          \"url\" : url_Lista,\n",
        "          \"titulo\": titulo,\n",
        "          \"opiniones\" :opiniones,\n",
        "          \"precio\": precio2,\n",
        "          \"marca\":marca,\n",
        "          \"modelo\":modelo,\n",
        "          \"color\": color,\n",
        "          \"peso\": peso,\n",
        "          \"dimension\":dimension,\n",
        "          \"volumen\":volumen,\n",
        "          \"potencia\":potencia\n",
        "  }  \n",
        "  \n",
        "  return consolidado"
      ],
      "execution_count": 0,
      "outputs": []
    },
    {
      "cell_type": "markdown",
      "metadata": {
        "id": "p_A0We0N1G5B",
        "colab_type": "text"
      },
      "source": [
        "**Probamos la función con 1 producto**"
      ]
    },
    {
      "cell_type": "code",
      "metadata": {
        "id": "eRa7OjkE4Yle",
        "colab_type": "code",
        "colab": {}
      },
      "source": [
        "extraeDatos('https://www.amazon.es/Aspiradora-Aspirador-Aspiradoras-Inoxidable-Boquillas/dp/B07K9JZ6SB')"
      ],
      "execution_count": 0,
      "outputs": []
    },
    {
      "cell_type": "markdown",
      "metadata": {
        "id": "U3bfoSwy1KjI",
        "colab_type": "text"
      },
      "source": [
        "**Ejecutamos la función para obtener los datos de todos los productos**"
      ]
    },
    {
      "cell_type": "code",
      "metadata": {
        "id": "fZwS2dUstxbm",
        "colab_type": "code",
        "colab": {}
      },
      "source": [
        "l_product_data = []\n",
        "for product_url in dataUrls:  \n",
        "  l_product_data.append(extraeDatos(product_url))"
      ],
      "execution_count": 0,
      "outputs": []
    },
    {
      "cell_type": "code",
      "metadata": {
        "id": "6-JHDEtVt-2Y",
        "colab_type": "code",
        "colab": {}
      },
      "source": [
        "len(l_product_data)"
      ],
      "execution_count": 0,
      "outputs": []
    },
    {
      "cell_type": "code",
      "metadata": {
        "id": "48TcnljHt73a",
        "colab_type": "code",
        "colab": {}
      },
      "source": [
        "l_product_data"
      ],
      "execution_count": 0,
      "outputs": []
    },
    {
      "cell_type": "markdown",
      "metadata": {
        "id": "G-_ZWDgDwjEw",
        "colab_type": "text"
      },
      "source": [
        "**Creando dataframe**"
      ]
    },
    {
      "cell_type": "code",
      "metadata": {
        "id": "toaGoapvwKta",
        "colab_type": "code",
        "outputId": "b83e9f9b-bca4-4eb4-cd92-f05388d01040",
        "colab": {
          "base_uri": "https://localhost:8080/",
          "height": 1000
        }
      },
      "source": [
        "df_product_data= pd.DataFrame(l_product_data)\n",
        "df_product_data.head(50)"
      ],
      "execution_count": 0,
      "outputs": [
        {
          "output_type": "execute_result",
          "data": {
            "text/html": [
              "<div>\n",
              "<style scoped>\n",
              "    .dataframe tbody tr th:only-of-type {\n",
              "        vertical-align: middle;\n",
              "    }\n",
              "\n",
              "    .dataframe tbody tr th {\n",
              "        vertical-align: top;\n",
              "    }\n",
              "\n",
              "    .dataframe thead th {\n",
              "        text-align: right;\n",
              "    }\n",
              "</style>\n",
              "<table border=\"1\" class=\"dataframe\">\n",
              "  <thead>\n",
              "    <tr style=\"text-align: right;\">\n",
              "      <th></th>\n",
              "      <th>color</th>\n",
              "      <th>dimension</th>\n",
              "      <th>marca</th>\n",
              "      <th>modelo</th>\n",
              "      <th>opiniones</th>\n",
              "      <th>peso</th>\n",
              "      <th>potencia</th>\n",
              "      <th>precio</th>\n",
              "      <th>titulo</th>\n",
              "      <th>url</th>\n",
              "      <th>volumen</th>\n",
              "    </tr>\n",
              "  </thead>\n",
              "  <tbody>\n",
              "    <tr>\n",
              "      <th>0</th>\n",
              "      <td>Negro, Naranja</td>\n",
              "      <td>27,5 x 40,9 x 29 cm</td>\n",
              "      <td>Rowenta</td>\n",
              "      <td>RO3753</td>\n",
              "      <td>1,727 opiniones de clientes</td>\n",
              "      <td>6,6 Kg</td>\n",
              "      <td>750 vatios</td>\n",
              "      <td>84,99 €</td>\n",
              "      <td>Rowenta Compact Power Cyclonic RO3753EA - Aspi...</td>\n",
              "      <td>https://www.amazon.es/Rowenta-Compact-Power-Cy...</td>\n",
              "      <td>1.5 litros</td>\n",
              "    </tr>\n",
              "    <tr>\n",
              "      <th>1</th>\n",
              "      <td>Negro-amarillo</td>\n",
              "      <td>34 x 38,8 x 50,3 cm</td>\n",
              "      <td>Rowenta</td>\n",
              "      <td>RO3753</td>\n",
              "      <td>997 opiniones de clientes</td>\n",
              "      <td>5,8 Kg</td>\n",
              "      <td>750 vatios</td>\n",
              "      <td>67,73 €</td>\n",
              "      <td>Kärcher Aspiradores multiuso WD 3 (1.629-800.0)</td>\n",
              "      <td>https://www.amazon.es/K%C3%A4rcher-WD3-Aspirad...</td>\n",
              "      <td>17 litros</td>\n",
              "    </tr>\n",
              "    <tr>\n",
              "      <th>2</th>\n",
              "      <td>Verde</td>\n",
              "      <td>25 x 65 x 14 cm</td>\n",
              "      <td>Cecotec</td>\n",
              "      <td>9793789050069</td>\n",
              "      <td>2,291 opiniones de clientes</td>\n",
              "      <td>2,1 Kg</td>\n",
              "      <td>800 vatios</td>\n",
              "      <td>26,00 €</td>\n",
              "      <td>Cecotec Conga Duostick Easy - Aspirador ciclón...</td>\n",
              "      <td>https://www.amazon.es/Cecotec-Conga-Duostick-E...</td>\n",
              "      <td>1 litros</td>\n",
              "    </tr>\n",
              "    <tr>\n",
              "      <th>3</th>\n",
              "      <td>Negro-gris</td>\n",
              "      <td>120 x 24 x 12 cm</td>\n",
              "      <td>Hikeren</td>\n",
              "      <td>9793789050069</td>\n",
              "      <td>305 opiniones de clientes</td>\n",
              "      <td>3,15 Kg</td>\n",
              "      <td>800 vatios</td>\n",
              "      <td>89,96 €</td>\n",
              "      <td>Aspiradoras Vertical, HIKEREN Aspiradora Escob...</td>\n",
              "      <td>https://www.amazon.es/Aspiradoras-Vertical-Asp...</td>\n",
              "      <td>0.6 litros</td>\n",
              "    </tr>\n",
              "    <tr>\n",
              "      <th>4</th>\n",
              "      <td>Rot, Schwarz, Weiss</td>\n",
              "      <td>34 x 34 x 37 cm</td>\n",
              "      <td>Hikeren</td>\n",
              "      <td>9793789050069</td>\n",
              "      <td>342 opiniones de clientes</td>\n",
              "      <td>3,2 Kg</td>\n",
              "      <td>800 vatios</td>\n",
              "      <td>39,95 €</td>\n",
              "      <td>Einhell Aspirador en seco y húmedo TC-VC 1812 S</td>\n",
              "      <td>https://www.amazon.es/Einhell-TC-VC-1812-seco-...</td>\n",
              "      <td>12 litros</td>\n",
              "    </tr>\n",
              "    <tr>\n",
              "      <th>5</th>\n",
              "      <td>Azúl</td>\n",
              "      <td>34 x 34 x 37 cm</td>\n",
              "      <td>SAMBA</td>\n",
              "      <td>9793789050069</td>\n",
              "      <td>79 opiniones de clientes</td>\n",
              "      <td>3,6 Kg</td>\n",
              "      <td>150 kW</td>\n",
              "      <td>54,90 €</td>\n",
              "      <td>SAMBA ¡Aspirador 2en1! Vertical y de Mano Sin ...</td>\n",
              "      <td>https://www.amazon.es/SAMBA-%C2%A1Aspirador-Si...</td>\n",
              "      <td>0.8 litros</td>\n",
              "    </tr>\n",
              "    <tr>\n",
              "      <th>6</th>\n",
              "      <td>Azul, Marfil</td>\n",
              "      <td>47 x 28,5 x 30 cm</td>\n",
              "      <td>Rowenta</td>\n",
              "      <td>RO2727EA</td>\n",
              "      <td>193 opiniones de clientes</td>\n",
              "      <td>4,95 Kg</td>\n",
              "      <td>750 vatios</td>\n",
              "      <td>59,99 €</td>\n",
              "      <td>Rowenta City Space Cyclonic RO2727EA - Aspirad...</td>\n",
              "      <td>https://www.amazon.es/Rowenta-RO2727-City-Spac...</td>\n",
              "      <td>1.2 litros</td>\n",
              "    </tr>\n",
              "    <tr>\n",
              "      <th>7</th>\n",
              "      <td>None</td>\n",
              "      <td>None</td>\n",
              "      <td>None</td>\n",
              "      <td>None</td>\n",
              "      <td>None</td>\n",
              "      <td>None</td>\n",
              "      <td>None</td>\n",
              "      <td>None</td>\n",
              "      <td>None</td>\n",
              "      <td>https://www.amazon.es/Philips-Fc9332-09-Aspira...</td>\n",
              "      <td>None</td>\n",
              "    </tr>\n",
              "    <tr>\n",
              "      <th>8</th>\n",
              "      <td>None</td>\n",
              "      <td>None</td>\n",
              "      <td>None</td>\n",
              "      <td>None</td>\n",
              "      <td>None</td>\n",
              "      <td>None</td>\n",
              "      <td>None</td>\n",
              "      <td>None</td>\n",
              "      <td>None</td>\n",
              "      <td>https://www.amazon.es/Cecotec-Aspirador-regula...</td>\n",
              "      <td>None</td>\n",
              "    </tr>\n",
              "    <tr>\n",
              "      <th>9</th>\n",
              "      <td>None</td>\n",
              "      <td>None</td>\n",
              "      <td>None</td>\n",
              "      <td>None</td>\n",
              "      <td>None</td>\n",
              "      <td>None</td>\n",
              "      <td>None</td>\n",
              "      <td>None</td>\n",
              "      <td>None</td>\n",
              "      <td>https://www.amazon.es/proscenic-Aspirador-Acce...</td>\n",
              "      <td>None</td>\n",
              "    </tr>\n",
              "    <tr>\n",
              "      <th>10</th>\n",
              "      <td>None</td>\n",
              "      <td>None</td>\n",
              "      <td>None</td>\n",
              "      <td>None</td>\n",
              "      <td>None</td>\n",
              "      <td>None</td>\n",
              "      <td>None</td>\n",
              "      <td>None</td>\n",
              "      <td>None</td>\n",
              "      <td>https://www.amazon.es/Taurus-Ultimate-Lithium-...</td>\n",
              "      <td>None</td>\n",
              "    </tr>\n",
              "    <tr>\n",
              "      <th>11</th>\n",
              "      <td>None</td>\n",
              "      <td>None</td>\n",
              "      <td>None</td>\n",
              "      <td>None</td>\n",
              "      <td>None</td>\n",
              "      <td>None</td>\n",
              "      <td>None</td>\n",
              "      <td>None</td>\n",
              "      <td>None</td>\n",
              "      <td>https://www.amazon.es/Polti-Forzaspira-C110_Pl...</td>\n",
              "      <td>None</td>\n",
              "    </tr>\n",
              "    <tr>\n",
              "      <th>12</th>\n",
              "      <td>None</td>\n",
              "      <td>None</td>\n",
              "      <td>None</td>\n",
              "      <td>None</td>\n",
              "      <td>None</td>\n",
              "      <td>None</td>\n",
              "      <td>None</td>\n",
              "      <td>None</td>\n",
              "      <td>None</td>\n",
              "      <td>https://www.amazon.es/HMHM174ABEU-Homasy-V4-In...</td>\n",
              "      <td>None</td>\n",
              "    </tr>\n",
              "    <tr>\n",
              "      <th>13</th>\n",
              "      <td>None</td>\n",
              "      <td>None</td>\n",
              "      <td>None</td>\n",
              "      <td>None</td>\n",
              "      <td>None</td>\n",
              "      <td>None</td>\n",
              "      <td>None</td>\n",
              "      <td>None</td>\n",
              "      <td>None</td>\n",
              "      <td>https://www.amazon.es/Dodocool-Aspirador-cicl%...</td>\n",
              "      <td>None</td>\n",
              "    </tr>\n",
              "    <tr>\n",
              "      <th>14</th>\n",
              "      <td>Negro</td>\n",
              "      <td>35 x 10 x 12 cm</td>\n",
              "      <td>Hikeren</td>\n",
              "      <td>.</td>\n",
              "      <td>225 opiniones de clientes</td>\n",
              "      <td>980 g</td>\n",
              "      <td>100 vatios</td>\n",
              "      <td>46,96 €</td>\n",
              "      <td>Aspiradora de Mano Sin Cable, HIKEREN Aspirado...</td>\n",
              "      <td>https://www.amazon.es/Aspiradora-Aspirador-Ino...</td>\n",
              "      <td>None</td>\n",
              "    </tr>\n",
              "    <tr>\n",
              "      <th>15</th>\n",
              "      <td>Negro, Naranja</td>\n",
              "      <td>27,5 x 40,9 x 29 cm</td>\n",
              "      <td>Rowenta</td>\n",
              "      <td>RO3753</td>\n",
              "      <td>1,727 opiniones de clientes</td>\n",
              "      <td>6,6 Kg</td>\n",
              "      <td>750 vatios</td>\n",
              "      <td>84,99 €</td>\n",
              "      <td>Rowenta Compact Power Cyclonic RO3753EA - Aspi...</td>\n",
              "      <td>https://www.amazon.es/Rowenta-Compact-Power-Cy...</td>\n",
              "      <td>1.5 litros</td>\n",
              "    </tr>\n",
              "    <tr>\n",
              "      <th>16</th>\n",
              "      <td>Negro-amarillo</td>\n",
              "      <td>34 x 38,8 x 50,3 cm</td>\n",
              "      <td>Rowenta</td>\n",
              "      <td>RO3753</td>\n",
              "      <td>997 opiniones de clientes</td>\n",
              "      <td>5,8 Kg</td>\n",
              "      <td>750 vatios</td>\n",
              "      <td>67,73 €</td>\n",
              "      <td>Kärcher Aspiradores multiuso WD 3 (1.629-800.0)</td>\n",
              "      <td>https://www.amazon.es/K%C3%A4rcher-WD3-Aspirad...</td>\n",
              "      <td>17 litros</td>\n",
              "    </tr>\n",
              "    <tr>\n",
              "      <th>17</th>\n",
              "      <td>None</td>\n",
              "      <td>None</td>\n",
              "      <td>None</td>\n",
              "      <td>None</td>\n",
              "      <td>None</td>\n",
              "      <td>None</td>\n",
              "      <td>None</td>\n",
              "      <td>None</td>\n",
              "      <td>None</td>\n",
              "      <td>https://www.amazon.es/Cecotec-Conga-Duostick-E...</td>\n",
              "      <td>None</td>\n",
              "    </tr>\n",
              "    <tr>\n",
              "      <th>18</th>\n",
              "      <td>None</td>\n",
              "      <td>None</td>\n",
              "      <td>None</td>\n",
              "      <td>None</td>\n",
              "      <td>None</td>\n",
              "      <td>None</td>\n",
              "      <td>None</td>\n",
              "      <td>None</td>\n",
              "      <td>None</td>\n",
              "      <td>https://www.amazon.es/Aspiradoras-Vertical-Asp...</td>\n",
              "      <td>None</td>\n",
              "    </tr>\n",
              "    <tr>\n",
              "      <th>19</th>\n",
              "      <td>None</td>\n",
              "      <td>None</td>\n",
              "      <td>None</td>\n",
              "      <td>None</td>\n",
              "      <td>None</td>\n",
              "      <td>None</td>\n",
              "      <td>None</td>\n",
              "      <td>None</td>\n",
              "      <td>None</td>\n",
              "      <td>https://www.amazon.es/Einhell-TC-VC-1812-seco-...</td>\n",
              "      <td>None</td>\n",
              "    </tr>\n",
              "    <tr>\n",
              "      <th>20</th>\n",
              "      <td>None</td>\n",
              "      <td>None</td>\n",
              "      <td>None</td>\n",
              "      <td>None</td>\n",
              "      <td>None</td>\n",
              "      <td>None</td>\n",
              "      <td>None</td>\n",
              "      <td>None</td>\n",
              "      <td>None</td>\n",
              "      <td>https://www.amazon.es/SAMBA-%C2%A1Aspirador-Si...</td>\n",
              "      <td>None</td>\n",
              "    </tr>\n",
              "    <tr>\n",
              "      <th>21</th>\n",
              "      <td>None</td>\n",
              "      <td>None</td>\n",
              "      <td>None</td>\n",
              "      <td>None</td>\n",
              "      <td>None</td>\n",
              "      <td>None</td>\n",
              "      <td>None</td>\n",
              "      <td>None</td>\n",
              "      <td>None</td>\n",
              "      <td>https://www.amazon.es/Rowenta-RO2727-City-Spac...</td>\n",
              "      <td>None</td>\n",
              "    </tr>\n",
              "    <tr>\n",
              "      <th>22</th>\n",
              "      <td>None</td>\n",
              "      <td>None</td>\n",
              "      <td>None</td>\n",
              "      <td>None</td>\n",
              "      <td>None</td>\n",
              "      <td>None</td>\n",
              "      <td>None</td>\n",
              "      <td>None</td>\n",
              "      <td>None</td>\n",
              "      <td>https://www.amazon.es/Philips-Fc9332-09-Aspira...</td>\n",
              "      <td>None</td>\n",
              "    </tr>\n",
              "    <tr>\n",
              "      <th>23</th>\n",
              "      <td>Multicolor</td>\n",
              "      <td>40 x 40 x 52 cm</td>\n",
              "      <td>Cecotec</td>\n",
              "      <td>05029</td>\n",
              "      <td>563 opiniones de clientes</td>\n",
              "      <td>7,06 Kg</td>\n",
              "      <td>1400 vatios</td>\n",
              "      <td>74,00 €</td>\n",
              "      <td>Cecotec Wet&amp;Dry Aspirador de sólidos y líquido...</td>\n",
              "      <td>https://www.amazon.es/Cecotec-Aspirador-regula...</td>\n",
              "      <td>15 litros</td>\n",
              "    </tr>\n",
              "    <tr>\n",
              "      <th>24</th>\n",
              "      <td>Multicolor</td>\n",
              "      <td>71 x 32 x 16 cm</td>\n",
              "      <td>proscenic</td>\n",
              "      <td>05029</td>\n",
              "      <td>87 opiniones de clientes</td>\n",
              "      <td>3,42 Kg</td>\n",
              "      <td>180 vatios</td>\n",
              "      <td>149,00 €</td>\n",
              "      <td>proscenic P8 PLUS Aspirador sin cable Potente ...</td>\n",
              "      <td>https://www.amazon.es/proscenic-Aspirador-Acce...</td>\n",
              "      <td>15 litros</td>\n",
              "    </tr>\n",
              "    <tr>\n",
              "      <th>25</th>\n",
              "      <td>None</td>\n",
              "      <td>None</td>\n",
              "      <td>None</td>\n",
              "      <td>None</td>\n",
              "      <td>None</td>\n",
              "      <td>None</td>\n",
              "      <td>None</td>\n",
              "      <td>None</td>\n",
              "      <td>None</td>\n",
              "      <td>https://www.amazon.es/Taurus-Ultimate-Lithium-...</td>\n",
              "      <td>None</td>\n",
              "    </tr>\n",
              "    <tr>\n",
              "      <th>26</th>\n",
              "      <td>Rojo</td>\n",
              "      <td>28 x 32 x 38 cm</td>\n",
              "      <td>Polti</td>\n",
              "      <td>PBEU0105</td>\n",
              "      <td>272 opiniones de clientes</td>\n",
              "      <td>5,2 Kg</td>\n",
              "      <td>800 vatios</td>\n",
              "      <td>69,99 €</td>\n",
              "      <td>Polti Forzaspira C110_Plus Aspirador cicónico ...</td>\n",
              "      <td>https://www.amazon.es/Polti-Forzaspira-C110_Pl...</td>\n",
              "      <td>2 litros</td>\n",
              "    </tr>\n",
              "    <tr>\n",
              "      <th>27</th>\n",
              "      <td>Negro</td>\n",
              "      <td>28 x 32 x 38 cm</td>\n",
              "      <td>VicTsing</td>\n",
              "      <td>HMHM174ABEU</td>\n",
              "      <td>179 opiniones de clientes</td>\n",
              "      <td>2,18 Kg</td>\n",
              "      <td>600 vatios</td>\n",
              "      <td>42,99 €</td>\n",
              "      <td>Homasy V4-Aspiradoras Hogar Escoba 2 en 1, 800...</td>\n",
              "      <td>https://www.amazon.es/HMHM174ABEU-Homasy-V4-In...</td>\n",
              "      <td>0.8 litros</td>\n",
              "    </tr>\n",
              "    <tr>\n",
              "      <th>28</th>\n",
              "      <td>Blanco</td>\n",
              "      <td>60 x 16,2 x 12,5 cm</td>\n",
              "      <td>dodocool</td>\n",
              "      <td>HMHM174ABEU</td>\n",
              "      <td>137 opiniones de clientes</td>\n",
              "      <td>1,85 Kg</td>\n",
              "      <td>800 vatios</td>\n",
              "      <td>44,99 €</td>\n",
              "      <td>Dodocool - Aspirador con hilo sin bolsa, 2 en ...</td>\n",
              "      <td>https://www.amazon.es/Dodocool-Aspirador-cicl%...</td>\n",
              "      <td>1.50 litros</td>\n",
              "    </tr>\n",
              "    <tr>\n",
              "      <th>29</th>\n",
              "      <td>None</td>\n",
              "      <td>None</td>\n",
              "      <td>None</td>\n",
              "      <td>None</td>\n",
              "      <td>None</td>\n",
              "      <td>None</td>\n",
              "      <td>None</td>\n",
              "      <td>None</td>\n",
              "      <td>None</td>\n",
              "      <td>https://www.amazon.es/Aspiradora-Aspirador-Ino...</td>\n",
              "      <td>None</td>\n",
              "    </tr>\n",
              "    <tr>\n",
              "      <th>30</th>\n",
              "      <td>None</td>\n",
              "      <td>None</td>\n",
              "      <td>None</td>\n",
              "      <td>None</td>\n",
              "      <td>None</td>\n",
              "      <td>None</td>\n",
              "      <td>None</td>\n",
              "      <td>None</td>\n",
              "      <td>None</td>\n",
              "      <td>https://www.amazon.es/Rowenta-Compact-Power-Cy...</td>\n",
              "      <td>None</td>\n",
              "    </tr>\n",
              "    <tr>\n",
              "      <th>31</th>\n",
              "      <td>Negro-amarillo</td>\n",
              "      <td>34 x 38,8 x 50,3 cm</td>\n",
              "      <td>None</td>\n",
              "      <td>None</td>\n",
              "      <td>997 opiniones de clientes</td>\n",
              "      <td>5,8 Kg</td>\n",
              "      <td>None</td>\n",
              "      <td>67,73 €</td>\n",
              "      <td>Kärcher Aspiradores multiuso WD 3 (1.629-800.0)</td>\n",
              "      <td>https://www.amazon.es/K%C3%A4rcher-WD3-Aspirad...</td>\n",
              "      <td>17 litros</td>\n",
              "    </tr>\n",
              "    <tr>\n",
              "      <th>32</th>\n",
              "      <td>None</td>\n",
              "      <td>None</td>\n",
              "      <td>None</td>\n",
              "      <td>None</td>\n",
              "      <td>None</td>\n",
              "      <td>None</td>\n",
              "      <td>None</td>\n",
              "      <td>None</td>\n",
              "      <td>None</td>\n",
              "      <td>https://www.amazon.es/Cecotec-Conga-Duostick-E...</td>\n",
              "      <td>None</td>\n",
              "    </tr>\n",
              "    <tr>\n",
              "      <th>33</th>\n",
              "      <td>None</td>\n",
              "      <td>None</td>\n",
              "      <td>None</td>\n",
              "      <td>None</td>\n",
              "      <td>None</td>\n",
              "      <td>None</td>\n",
              "      <td>None</td>\n",
              "      <td>None</td>\n",
              "      <td>None</td>\n",
              "      <td>https://www.amazon.es/Aspiradoras-Vertical-Asp...</td>\n",
              "      <td>None</td>\n",
              "    </tr>\n",
              "    <tr>\n",
              "      <th>34</th>\n",
              "      <td>None</td>\n",
              "      <td>None</td>\n",
              "      <td>None</td>\n",
              "      <td>None</td>\n",
              "      <td>None</td>\n",
              "      <td>None</td>\n",
              "      <td>None</td>\n",
              "      <td>None</td>\n",
              "      <td>None</td>\n",
              "      <td>https://www.amazon.es/Einhell-TC-VC-1812-seco-...</td>\n",
              "      <td>None</td>\n",
              "    </tr>\n",
              "    <tr>\n",
              "      <th>35</th>\n",
              "      <td>None</td>\n",
              "      <td>None</td>\n",
              "      <td>None</td>\n",
              "      <td>None</td>\n",
              "      <td>None</td>\n",
              "      <td>None</td>\n",
              "      <td>None</td>\n",
              "      <td>None</td>\n",
              "      <td>None</td>\n",
              "      <td>https://www.amazon.es/SAMBA-%C2%A1Aspirador-Si...</td>\n",
              "      <td>None</td>\n",
              "    </tr>\n",
              "    <tr>\n",
              "      <th>36</th>\n",
              "      <td>None</td>\n",
              "      <td>None</td>\n",
              "      <td>None</td>\n",
              "      <td>None</td>\n",
              "      <td>None</td>\n",
              "      <td>None</td>\n",
              "      <td>None</td>\n",
              "      <td>None</td>\n",
              "      <td>None</td>\n",
              "      <td>https://www.amazon.es/Rowenta-RO2727-City-Spac...</td>\n",
              "      <td>None</td>\n",
              "    </tr>\n",
              "    <tr>\n",
              "      <th>37</th>\n",
              "      <td>None</td>\n",
              "      <td>None</td>\n",
              "      <td>None</td>\n",
              "      <td>None</td>\n",
              "      <td>None</td>\n",
              "      <td>None</td>\n",
              "      <td>None</td>\n",
              "      <td>None</td>\n",
              "      <td>None</td>\n",
              "      <td>https://www.amazon.es/Philips-Fc9332-09-Aspira...</td>\n",
              "      <td>None</td>\n",
              "    </tr>\n",
              "    <tr>\n",
              "      <th>38</th>\n",
              "      <td>None</td>\n",
              "      <td>None</td>\n",
              "      <td>None</td>\n",
              "      <td>None</td>\n",
              "      <td>None</td>\n",
              "      <td>None</td>\n",
              "      <td>None</td>\n",
              "      <td>None</td>\n",
              "      <td>None</td>\n",
              "      <td>https://www.amazon.es/Cecotec-Aspirador-regula...</td>\n",
              "      <td>None</td>\n",
              "    </tr>\n",
              "    <tr>\n",
              "      <th>39</th>\n",
              "      <td>None</td>\n",
              "      <td>None</td>\n",
              "      <td>None</td>\n",
              "      <td>None</td>\n",
              "      <td>None</td>\n",
              "      <td>None</td>\n",
              "      <td>None</td>\n",
              "      <td>None</td>\n",
              "      <td>None</td>\n",
              "      <td>https://www.amazon.es/proscenic-Aspirador-Acce...</td>\n",
              "      <td>None</td>\n",
              "    </tr>\n",
              "    <tr>\n",
              "      <th>40</th>\n",
              "      <td>None</td>\n",
              "      <td>None</td>\n",
              "      <td>None</td>\n",
              "      <td>None</td>\n",
              "      <td>None</td>\n",
              "      <td>None</td>\n",
              "      <td>None</td>\n",
              "      <td>None</td>\n",
              "      <td>None</td>\n",
              "      <td>https://www.amazon.es/Taurus-Ultimate-Lithium-...</td>\n",
              "      <td>None</td>\n",
              "    </tr>\n",
              "    <tr>\n",
              "      <th>41</th>\n",
              "      <td>None</td>\n",
              "      <td>None</td>\n",
              "      <td>None</td>\n",
              "      <td>None</td>\n",
              "      <td>None</td>\n",
              "      <td>None</td>\n",
              "      <td>None</td>\n",
              "      <td>None</td>\n",
              "      <td>None</td>\n",
              "      <td>https://www.amazon.es/Polti-Forzaspira-C110_Pl...</td>\n",
              "      <td>None</td>\n",
              "    </tr>\n",
              "    <tr>\n",
              "      <th>42</th>\n",
              "      <td>None</td>\n",
              "      <td>None</td>\n",
              "      <td>None</td>\n",
              "      <td>None</td>\n",
              "      <td>None</td>\n",
              "      <td>None</td>\n",
              "      <td>None</td>\n",
              "      <td>None</td>\n",
              "      <td>None</td>\n",
              "      <td>https://www.amazon.es/HMHM174ABEU-Homasy-V4-In...</td>\n",
              "      <td>None</td>\n",
              "    </tr>\n",
              "    <tr>\n",
              "      <th>43</th>\n",
              "      <td>None</td>\n",
              "      <td>None</td>\n",
              "      <td>None</td>\n",
              "      <td>None</td>\n",
              "      <td>None</td>\n",
              "      <td>None</td>\n",
              "      <td>None</td>\n",
              "      <td>None</td>\n",
              "      <td>None</td>\n",
              "      <td>https://www.amazon.es/Dodocool-Aspirador-cicl%...</td>\n",
              "      <td>None</td>\n",
              "    </tr>\n",
              "    <tr>\n",
              "      <th>44</th>\n",
              "      <td>None</td>\n",
              "      <td>None</td>\n",
              "      <td>None</td>\n",
              "      <td>None</td>\n",
              "      <td>None</td>\n",
              "      <td>None</td>\n",
              "      <td>None</td>\n",
              "      <td>None</td>\n",
              "      <td>None</td>\n",
              "      <td>https://www.amazon.es/Aspiradora-Aspirador-Ino...</td>\n",
              "      <td>None</td>\n",
              "    </tr>\n",
              "    <tr>\n",
              "      <th>45</th>\n",
              "      <td>None</td>\n",
              "      <td>None</td>\n",
              "      <td>None</td>\n",
              "      <td>None</td>\n",
              "      <td>None</td>\n",
              "      <td>None</td>\n",
              "      <td>None</td>\n",
              "      <td>None</td>\n",
              "      <td>None</td>\n",
              "      <td>https://www.amazon.es/Rowenta-Compact-Power-Cy...</td>\n",
              "      <td>None</td>\n",
              "    </tr>\n",
              "    <tr>\n",
              "      <th>46</th>\n",
              "      <td>None</td>\n",
              "      <td>None</td>\n",
              "      <td>None</td>\n",
              "      <td>None</td>\n",
              "      <td>None</td>\n",
              "      <td>None</td>\n",
              "      <td>None</td>\n",
              "      <td>None</td>\n",
              "      <td>None</td>\n",
              "      <td>https://www.amazon.es/K%C3%A4rcher-WD3-Aspirad...</td>\n",
              "      <td>None</td>\n",
              "    </tr>\n",
              "    <tr>\n",
              "      <th>47</th>\n",
              "      <td>None</td>\n",
              "      <td>None</td>\n",
              "      <td>None</td>\n",
              "      <td>None</td>\n",
              "      <td>None</td>\n",
              "      <td>None</td>\n",
              "      <td>None</td>\n",
              "      <td>None</td>\n",
              "      <td>None</td>\n",
              "      <td>https://www.amazon.es/Cecotec-Conga-Duostick-E...</td>\n",
              "      <td>None</td>\n",
              "    </tr>\n",
              "    <tr>\n",
              "      <th>48</th>\n",
              "      <td>None</td>\n",
              "      <td>None</td>\n",
              "      <td>None</td>\n",
              "      <td>None</td>\n",
              "      <td>None</td>\n",
              "      <td>None</td>\n",
              "      <td>None</td>\n",
              "      <td>None</td>\n",
              "      <td>None</td>\n",
              "      <td>https://www.amazon.es/Aspiradoras-Vertical-Asp...</td>\n",
              "      <td>None</td>\n",
              "    </tr>\n",
              "    <tr>\n",
              "      <th>49</th>\n",
              "      <td>None</td>\n",
              "      <td>None</td>\n",
              "      <td>None</td>\n",
              "      <td>None</td>\n",
              "      <td>None</td>\n",
              "      <td>None</td>\n",
              "      <td>None</td>\n",
              "      <td>None</td>\n",
              "      <td>None</td>\n",
              "      <td>https://www.amazon.es/Einhell-TC-VC-1812-seco-...</td>\n",
              "      <td>None</td>\n",
              "    </tr>\n",
              "  </tbody>\n",
              "</table>\n",
              "</div>"
            ],
            "text/plain": [
              "                  color  ...      volumen\n",
              "0        Negro, Naranja  ...   1.5 litros\n",
              "1        Negro-amarillo  ...    17 litros\n",
              "2                 Verde  ...     1 litros\n",
              "3            Negro-gris  ...   0.6 litros\n",
              "4   Rot, Schwarz, Weiss  ...    12 litros\n",
              "5                  Azúl  ...   0.8 litros\n",
              "6          Azul, Marfil  ...   1.2 litros\n",
              "7                  None  ...         None\n",
              "8                  None  ...         None\n",
              "9                  None  ...         None\n",
              "10                 None  ...         None\n",
              "11                 None  ...         None\n",
              "12                 None  ...         None\n",
              "13                 None  ...         None\n",
              "14                Negro  ...         None\n",
              "15       Negro, Naranja  ...   1.5 litros\n",
              "16       Negro-amarillo  ...    17 litros\n",
              "17                 None  ...         None\n",
              "18                 None  ...         None\n",
              "19                 None  ...         None\n",
              "20                 None  ...         None\n",
              "21                 None  ...         None\n",
              "22                 None  ...         None\n",
              "23           Multicolor  ...    15 litros\n",
              "24           Multicolor  ...    15 litros\n",
              "25                 None  ...         None\n",
              "26                 Rojo  ...     2 litros\n",
              "27                Negro  ...   0.8 litros\n",
              "28               Blanco  ...  1.50 litros\n",
              "29                 None  ...         None\n",
              "30                 None  ...         None\n",
              "31       Negro-amarillo  ...    17 litros\n",
              "32                 None  ...         None\n",
              "33                 None  ...         None\n",
              "34                 None  ...         None\n",
              "35                 None  ...         None\n",
              "36                 None  ...         None\n",
              "37                 None  ...         None\n",
              "38                 None  ...         None\n",
              "39                 None  ...         None\n",
              "40                 None  ...         None\n",
              "41                 None  ...         None\n",
              "42                 None  ...         None\n",
              "43                 None  ...         None\n",
              "44                 None  ...         None\n",
              "45                 None  ...         None\n",
              "46                 None  ...         None\n",
              "47                 None  ...         None\n",
              "48                 None  ...         None\n",
              "49                 None  ...         None\n",
              "\n",
              "[50 rows x 11 columns]"
            ]
          },
          "metadata": {
            "tags": []
          },
          "execution_count": 32
        }
      ]
    },
    {
      "cell_type": "code",
      "metadata": {
        "id": "Uaf5USUFwOku",
        "colab_type": "code",
        "colab": {}
      },
      "source": [
        "data_lista = df_product_data"
      ],
      "execution_count": 0,
      "outputs": []
    },
    {
      "cell_type": "markdown",
      "metadata": {
        "id": "9_ZDiJtHjA88",
        "colab_type": "text"
      },
      "source": [
        "### **Limpieza de datos**"
      ]
    },
    {
      "cell_type": "code",
      "metadata": {
        "id": "7Yx0m4Ezi_9g",
        "colab_type": "code",
        "colab": {}
      },
      "source": [
        "#data_lista - DataFrame"
      ],
      "execution_count": 0,
      "outputs": []
    },
    {
      "cell_type": "code",
      "metadata": {
        "id": "5gaEqzH3rpOK",
        "colab_type": "code",
        "outputId": "1009530d-3f62-417e-b224-88f4a907d2c2",
        "colab": {
          "base_uri": "https://localhost:8080/",
          "height": 1000
        }
      },
      "source": [
        "data_lista"
      ],
      "execution_count": 0,
      "outputs": [
        {
          "output_type": "execute_result",
          "data": {
            "text/html": [
              "<div>\n",
              "<style scoped>\n",
              "    .dataframe tbody tr th:only-of-type {\n",
              "        vertical-align: middle;\n",
              "    }\n",
              "\n",
              "    .dataframe tbody tr th {\n",
              "        vertical-align: top;\n",
              "    }\n",
              "\n",
              "    .dataframe thead th {\n",
              "        text-align: right;\n",
              "    }\n",
              "</style>\n",
              "<table border=\"1\" class=\"dataframe\">\n",
              "  <thead>\n",
              "    <tr style=\"text-align: right;\">\n",
              "      <th></th>\n",
              "      <th>color</th>\n",
              "      <th>dimension</th>\n",
              "      <th>marca</th>\n",
              "      <th>modelo</th>\n",
              "      <th>opiniones</th>\n",
              "      <th>peso</th>\n",
              "      <th>potencia</th>\n",
              "      <th>precio</th>\n",
              "      <th>titulo</th>\n",
              "      <th>url</th>\n",
              "      <th>volumen</th>\n",
              "    </tr>\n",
              "  </thead>\n",
              "  <tbody>\n",
              "    <tr>\n",
              "      <th>0</th>\n",
              "      <td>Negro, Naranja</td>\n",
              "      <td>27,5 x 40,9 x 29 cm</td>\n",
              "      <td>Rowenta</td>\n",
              "      <td>RO3753</td>\n",
              "      <td>1,727 opiniones de clientes</td>\n",
              "      <td>6,6 Kg</td>\n",
              "      <td>750 vatios</td>\n",
              "      <td>84,99 €</td>\n",
              "      <td>Rowenta Compact Power Cyclonic RO3753EA - Aspi...</td>\n",
              "      <td>https://www.amazon.es/Rowenta-Compact-Power-Cy...</td>\n",
              "      <td>1.5 litros</td>\n",
              "    </tr>\n",
              "    <tr>\n",
              "      <th>1</th>\n",
              "      <td>Negro-amarillo</td>\n",
              "      <td>34 x 38,8 x 50,3 cm</td>\n",
              "      <td>Rowenta</td>\n",
              "      <td>RO3753</td>\n",
              "      <td>997 opiniones de clientes</td>\n",
              "      <td>5,8 Kg</td>\n",
              "      <td>750 vatios</td>\n",
              "      <td>67,73 €</td>\n",
              "      <td>Kärcher Aspiradores multiuso WD 3 (1.629-800.0)</td>\n",
              "      <td>https://www.amazon.es/K%C3%A4rcher-WD3-Aspirad...</td>\n",
              "      <td>17 litros</td>\n",
              "    </tr>\n",
              "    <tr>\n",
              "      <th>2</th>\n",
              "      <td>Verde</td>\n",
              "      <td>25 x 65 x 14 cm</td>\n",
              "      <td>Cecotec</td>\n",
              "      <td>9793789050069</td>\n",
              "      <td>2,291 opiniones de clientes</td>\n",
              "      <td>2,1 Kg</td>\n",
              "      <td>800 vatios</td>\n",
              "      <td>26,00 €</td>\n",
              "      <td>Cecotec Conga Duostick Easy - Aspirador ciclón...</td>\n",
              "      <td>https://www.amazon.es/Cecotec-Conga-Duostick-E...</td>\n",
              "      <td>1 litros</td>\n",
              "    </tr>\n",
              "    <tr>\n",
              "      <th>3</th>\n",
              "      <td>Negro-gris</td>\n",
              "      <td>120 x 24 x 12 cm</td>\n",
              "      <td>Hikeren</td>\n",
              "      <td>9793789050069</td>\n",
              "      <td>305 opiniones de clientes</td>\n",
              "      <td>3,15 Kg</td>\n",
              "      <td>800 vatios</td>\n",
              "      <td>89,96 €</td>\n",
              "      <td>Aspiradoras Vertical, HIKEREN Aspiradora Escob...</td>\n",
              "      <td>https://www.amazon.es/Aspiradoras-Vertical-Asp...</td>\n",
              "      <td>0.6 litros</td>\n",
              "    </tr>\n",
              "    <tr>\n",
              "      <th>4</th>\n",
              "      <td>Rot, Schwarz, Weiss</td>\n",
              "      <td>34 x 34 x 37 cm</td>\n",
              "      <td>Hikeren</td>\n",
              "      <td>9793789050069</td>\n",
              "      <td>342 opiniones de clientes</td>\n",
              "      <td>3,2 Kg</td>\n",
              "      <td>800 vatios</td>\n",
              "      <td>39,95 €</td>\n",
              "      <td>Einhell Aspirador en seco y húmedo TC-VC 1812 S</td>\n",
              "      <td>https://www.amazon.es/Einhell-TC-VC-1812-seco-...</td>\n",
              "      <td>12 litros</td>\n",
              "    </tr>\n",
              "    <tr>\n",
              "      <th>5</th>\n",
              "      <td>Azúl</td>\n",
              "      <td>34 x 34 x 37 cm</td>\n",
              "      <td>SAMBA</td>\n",
              "      <td>9793789050069</td>\n",
              "      <td>79 opiniones de clientes</td>\n",
              "      <td>3,6 Kg</td>\n",
              "      <td>150 kW</td>\n",
              "      <td>54,90 €</td>\n",
              "      <td>SAMBA ¡Aspirador 2en1! Vertical y de Mano Sin ...</td>\n",
              "      <td>https://www.amazon.es/SAMBA-%C2%A1Aspirador-Si...</td>\n",
              "      <td>0.8 litros</td>\n",
              "    </tr>\n",
              "    <tr>\n",
              "      <th>6</th>\n",
              "      <td>Azul, Marfil</td>\n",
              "      <td>47 x 28,5 x 30 cm</td>\n",
              "      <td>Rowenta</td>\n",
              "      <td>RO2727EA</td>\n",
              "      <td>193 opiniones de clientes</td>\n",
              "      <td>4,95 Kg</td>\n",
              "      <td>750 vatios</td>\n",
              "      <td>59,99 €</td>\n",
              "      <td>Rowenta City Space Cyclonic RO2727EA - Aspirad...</td>\n",
              "      <td>https://www.amazon.es/Rowenta-RO2727-City-Spac...</td>\n",
              "      <td>1.2 litros</td>\n",
              "    </tr>\n",
              "    <tr>\n",
              "      <th>7</th>\n",
              "      <td>None</td>\n",
              "      <td>None</td>\n",
              "      <td>None</td>\n",
              "      <td>None</td>\n",
              "      <td>None</td>\n",
              "      <td>None</td>\n",
              "      <td>None</td>\n",
              "      <td>None</td>\n",
              "      <td>None</td>\n",
              "      <td>https://www.amazon.es/Philips-Fc9332-09-Aspira...</td>\n",
              "      <td>None</td>\n",
              "    </tr>\n",
              "    <tr>\n",
              "      <th>8</th>\n",
              "      <td>None</td>\n",
              "      <td>None</td>\n",
              "      <td>None</td>\n",
              "      <td>None</td>\n",
              "      <td>None</td>\n",
              "      <td>None</td>\n",
              "      <td>None</td>\n",
              "      <td>None</td>\n",
              "      <td>None</td>\n",
              "      <td>https://www.amazon.es/Cecotec-Aspirador-regula...</td>\n",
              "      <td>None</td>\n",
              "    </tr>\n",
              "    <tr>\n",
              "      <th>9</th>\n",
              "      <td>None</td>\n",
              "      <td>None</td>\n",
              "      <td>None</td>\n",
              "      <td>None</td>\n",
              "      <td>None</td>\n",
              "      <td>None</td>\n",
              "      <td>None</td>\n",
              "      <td>None</td>\n",
              "      <td>None</td>\n",
              "      <td>https://www.amazon.es/proscenic-Aspirador-Acce...</td>\n",
              "      <td>None</td>\n",
              "    </tr>\n",
              "    <tr>\n",
              "      <th>10</th>\n",
              "      <td>None</td>\n",
              "      <td>None</td>\n",
              "      <td>None</td>\n",
              "      <td>None</td>\n",
              "      <td>None</td>\n",
              "      <td>None</td>\n",
              "      <td>None</td>\n",
              "      <td>None</td>\n",
              "      <td>None</td>\n",
              "      <td>https://www.amazon.es/Taurus-Ultimate-Lithium-...</td>\n",
              "      <td>None</td>\n",
              "    </tr>\n",
              "    <tr>\n",
              "      <th>11</th>\n",
              "      <td>None</td>\n",
              "      <td>None</td>\n",
              "      <td>None</td>\n",
              "      <td>None</td>\n",
              "      <td>None</td>\n",
              "      <td>None</td>\n",
              "      <td>None</td>\n",
              "      <td>None</td>\n",
              "      <td>None</td>\n",
              "      <td>https://www.amazon.es/Polti-Forzaspira-C110_Pl...</td>\n",
              "      <td>None</td>\n",
              "    </tr>\n",
              "    <tr>\n",
              "      <th>12</th>\n",
              "      <td>None</td>\n",
              "      <td>None</td>\n",
              "      <td>None</td>\n",
              "      <td>None</td>\n",
              "      <td>None</td>\n",
              "      <td>None</td>\n",
              "      <td>None</td>\n",
              "      <td>None</td>\n",
              "      <td>None</td>\n",
              "      <td>https://www.amazon.es/HMHM174ABEU-Homasy-V4-In...</td>\n",
              "      <td>None</td>\n",
              "    </tr>\n",
              "    <tr>\n",
              "      <th>13</th>\n",
              "      <td>None</td>\n",
              "      <td>None</td>\n",
              "      <td>None</td>\n",
              "      <td>None</td>\n",
              "      <td>None</td>\n",
              "      <td>None</td>\n",
              "      <td>None</td>\n",
              "      <td>None</td>\n",
              "      <td>None</td>\n",
              "      <td>https://www.amazon.es/Dodocool-Aspirador-cicl%...</td>\n",
              "      <td>None</td>\n",
              "    </tr>\n",
              "    <tr>\n",
              "      <th>14</th>\n",
              "      <td>Negro</td>\n",
              "      <td>35 x 10 x 12 cm</td>\n",
              "      <td>Hikeren</td>\n",
              "      <td>.</td>\n",
              "      <td>225 opiniones de clientes</td>\n",
              "      <td>980 g</td>\n",
              "      <td>100 vatios</td>\n",
              "      <td>46,96 €</td>\n",
              "      <td>Aspiradora de Mano Sin Cable, HIKEREN Aspirado...</td>\n",
              "      <td>https://www.amazon.es/Aspiradora-Aspirador-Ino...</td>\n",
              "      <td>None</td>\n",
              "    </tr>\n",
              "    <tr>\n",
              "      <th>15</th>\n",
              "      <td>Negro, Naranja</td>\n",
              "      <td>27,5 x 40,9 x 29 cm</td>\n",
              "      <td>Rowenta</td>\n",
              "      <td>RO3753</td>\n",
              "      <td>1,727 opiniones de clientes</td>\n",
              "      <td>6,6 Kg</td>\n",
              "      <td>750 vatios</td>\n",
              "      <td>84,99 €</td>\n",
              "      <td>Rowenta Compact Power Cyclonic RO3753EA - Aspi...</td>\n",
              "      <td>https://www.amazon.es/Rowenta-Compact-Power-Cy...</td>\n",
              "      <td>1.5 litros</td>\n",
              "    </tr>\n",
              "    <tr>\n",
              "      <th>16</th>\n",
              "      <td>Negro-amarillo</td>\n",
              "      <td>34 x 38,8 x 50,3 cm</td>\n",
              "      <td>Rowenta</td>\n",
              "      <td>RO3753</td>\n",
              "      <td>997 opiniones de clientes</td>\n",
              "      <td>5,8 Kg</td>\n",
              "      <td>750 vatios</td>\n",
              "      <td>67,73 €</td>\n",
              "      <td>Kärcher Aspiradores multiuso WD 3 (1.629-800.0)</td>\n",
              "      <td>https://www.amazon.es/K%C3%A4rcher-WD3-Aspirad...</td>\n",
              "      <td>17 litros</td>\n",
              "    </tr>\n",
              "    <tr>\n",
              "      <th>17</th>\n",
              "      <td>None</td>\n",
              "      <td>None</td>\n",
              "      <td>None</td>\n",
              "      <td>None</td>\n",
              "      <td>None</td>\n",
              "      <td>None</td>\n",
              "      <td>None</td>\n",
              "      <td>None</td>\n",
              "      <td>None</td>\n",
              "      <td>https://www.amazon.es/Cecotec-Conga-Duostick-E...</td>\n",
              "      <td>None</td>\n",
              "    </tr>\n",
              "    <tr>\n",
              "      <th>18</th>\n",
              "      <td>None</td>\n",
              "      <td>None</td>\n",
              "      <td>None</td>\n",
              "      <td>None</td>\n",
              "      <td>None</td>\n",
              "      <td>None</td>\n",
              "      <td>None</td>\n",
              "      <td>None</td>\n",
              "      <td>None</td>\n",
              "      <td>https://www.amazon.es/Aspiradoras-Vertical-Asp...</td>\n",
              "      <td>None</td>\n",
              "    </tr>\n",
              "    <tr>\n",
              "      <th>19</th>\n",
              "      <td>None</td>\n",
              "      <td>None</td>\n",
              "      <td>None</td>\n",
              "      <td>None</td>\n",
              "      <td>None</td>\n",
              "      <td>None</td>\n",
              "      <td>None</td>\n",
              "      <td>None</td>\n",
              "      <td>None</td>\n",
              "      <td>https://www.amazon.es/Einhell-TC-VC-1812-seco-...</td>\n",
              "      <td>None</td>\n",
              "    </tr>\n",
              "    <tr>\n",
              "      <th>20</th>\n",
              "      <td>None</td>\n",
              "      <td>None</td>\n",
              "      <td>None</td>\n",
              "      <td>None</td>\n",
              "      <td>None</td>\n",
              "      <td>None</td>\n",
              "      <td>None</td>\n",
              "      <td>None</td>\n",
              "      <td>None</td>\n",
              "      <td>https://www.amazon.es/SAMBA-%C2%A1Aspirador-Si...</td>\n",
              "      <td>None</td>\n",
              "    </tr>\n",
              "    <tr>\n",
              "      <th>21</th>\n",
              "      <td>None</td>\n",
              "      <td>None</td>\n",
              "      <td>None</td>\n",
              "      <td>None</td>\n",
              "      <td>None</td>\n",
              "      <td>None</td>\n",
              "      <td>None</td>\n",
              "      <td>None</td>\n",
              "      <td>None</td>\n",
              "      <td>https://www.amazon.es/Rowenta-RO2727-City-Spac...</td>\n",
              "      <td>None</td>\n",
              "    </tr>\n",
              "    <tr>\n",
              "      <th>22</th>\n",
              "      <td>None</td>\n",
              "      <td>None</td>\n",
              "      <td>None</td>\n",
              "      <td>None</td>\n",
              "      <td>None</td>\n",
              "      <td>None</td>\n",
              "      <td>None</td>\n",
              "      <td>None</td>\n",
              "      <td>None</td>\n",
              "      <td>https://www.amazon.es/Philips-Fc9332-09-Aspira...</td>\n",
              "      <td>None</td>\n",
              "    </tr>\n",
              "    <tr>\n",
              "      <th>23</th>\n",
              "      <td>Multicolor</td>\n",
              "      <td>40 x 40 x 52 cm</td>\n",
              "      <td>Cecotec</td>\n",
              "      <td>05029</td>\n",
              "      <td>563 opiniones de clientes</td>\n",
              "      <td>7,06 Kg</td>\n",
              "      <td>1400 vatios</td>\n",
              "      <td>74,00 €</td>\n",
              "      <td>Cecotec Wet&amp;Dry Aspirador de sólidos y líquido...</td>\n",
              "      <td>https://www.amazon.es/Cecotec-Aspirador-regula...</td>\n",
              "      <td>15 litros</td>\n",
              "    </tr>\n",
              "    <tr>\n",
              "      <th>24</th>\n",
              "      <td>Multicolor</td>\n",
              "      <td>71 x 32 x 16 cm</td>\n",
              "      <td>proscenic</td>\n",
              "      <td>05029</td>\n",
              "      <td>87 opiniones de clientes</td>\n",
              "      <td>3,42 Kg</td>\n",
              "      <td>180 vatios</td>\n",
              "      <td>149,00 €</td>\n",
              "      <td>proscenic P8 PLUS Aspirador sin cable Potente ...</td>\n",
              "      <td>https://www.amazon.es/proscenic-Aspirador-Acce...</td>\n",
              "      <td>15 litros</td>\n",
              "    </tr>\n",
              "    <tr>\n",
              "      <th>25</th>\n",
              "      <td>None</td>\n",
              "      <td>None</td>\n",
              "      <td>None</td>\n",
              "      <td>None</td>\n",
              "      <td>None</td>\n",
              "      <td>None</td>\n",
              "      <td>None</td>\n",
              "      <td>None</td>\n",
              "      <td>None</td>\n",
              "      <td>https://www.amazon.es/Taurus-Ultimate-Lithium-...</td>\n",
              "      <td>None</td>\n",
              "    </tr>\n",
              "    <tr>\n",
              "      <th>26</th>\n",
              "      <td>Rojo</td>\n",
              "      <td>28 x 32 x 38 cm</td>\n",
              "      <td>Polti</td>\n",
              "      <td>PBEU0105</td>\n",
              "      <td>272 opiniones de clientes</td>\n",
              "      <td>5,2 Kg</td>\n",
              "      <td>800 vatios</td>\n",
              "      <td>69,99 €</td>\n",
              "      <td>Polti Forzaspira C110_Plus Aspirador cicónico ...</td>\n",
              "      <td>https://www.amazon.es/Polti-Forzaspira-C110_Pl...</td>\n",
              "      <td>2 litros</td>\n",
              "    </tr>\n",
              "    <tr>\n",
              "      <th>27</th>\n",
              "      <td>Negro</td>\n",
              "      <td>28 x 32 x 38 cm</td>\n",
              "      <td>VicTsing</td>\n",
              "      <td>HMHM174ABEU</td>\n",
              "      <td>179 opiniones de clientes</td>\n",
              "      <td>2,18 Kg</td>\n",
              "      <td>600 vatios</td>\n",
              "      <td>42,99 €</td>\n",
              "      <td>Homasy V4-Aspiradoras Hogar Escoba 2 en 1, 800...</td>\n",
              "      <td>https://www.amazon.es/HMHM174ABEU-Homasy-V4-In...</td>\n",
              "      <td>0.8 litros</td>\n",
              "    </tr>\n",
              "    <tr>\n",
              "      <th>28</th>\n",
              "      <td>Blanco</td>\n",
              "      <td>60 x 16,2 x 12,5 cm</td>\n",
              "      <td>dodocool</td>\n",
              "      <td>HMHM174ABEU</td>\n",
              "      <td>137 opiniones de clientes</td>\n",
              "      <td>1,85 Kg</td>\n",
              "      <td>800 vatios</td>\n",
              "      <td>44,99 €</td>\n",
              "      <td>Dodocool - Aspirador con hilo sin bolsa, 2 en ...</td>\n",
              "      <td>https://www.amazon.es/Dodocool-Aspirador-cicl%...</td>\n",
              "      <td>1.50 litros</td>\n",
              "    </tr>\n",
              "    <tr>\n",
              "      <th>29</th>\n",
              "      <td>None</td>\n",
              "      <td>None</td>\n",
              "      <td>None</td>\n",
              "      <td>None</td>\n",
              "      <td>None</td>\n",
              "      <td>None</td>\n",
              "      <td>None</td>\n",
              "      <td>None</td>\n",
              "      <td>None</td>\n",
              "      <td>https://www.amazon.es/Aspiradora-Aspirador-Ino...</td>\n",
              "      <td>None</td>\n",
              "    </tr>\n",
              "    <tr>\n",
              "      <th>...</th>\n",
              "      <td>...</td>\n",
              "      <td>...</td>\n",
              "      <td>...</td>\n",
              "      <td>...</td>\n",
              "      <td>...</td>\n",
              "      <td>...</td>\n",
              "      <td>...</td>\n",
              "      <td>...</td>\n",
              "      <td>...</td>\n",
              "      <td>...</td>\n",
              "      <td>...</td>\n",
              "    </tr>\n",
              "    <tr>\n",
              "      <th>240</th>\n",
              "      <td>None</td>\n",
              "      <td>None</td>\n",
              "      <td>None</td>\n",
              "      <td>None</td>\n",
              "      <td>None</td>\n",
              "      <td>None</td>\n",
              "      <td>None</td>\n",
              "      <td>None</td>\n",
              "      <td>None</td>\n",
              "      <td>https://www.amazon.es/Rowenta-Compact-Power-Cy...</td>\n",
              "      <td>None</td>\n",
              "    </tr>\n",
              "    <tr>\n",
              "      <th>241</th>\n",
              "      <td>None</td>\n",
              "      <td>None</td>\n",
              "      <td>None</td>\n",
              "      <td>None</td>\n",
              "      <td>None</td>\n",
              "      <td>None</td>\n",
              "      <td>None</td>\n",
              "      <td>None</td>\n",
              "      <td>None</td>\n",
              "      <td>https://www.amazon.es/K%C3%A4rcher-WD3-Aspirad...</td>\n",
              "      <td>None</td>\n",
              "    </tr>\n",
              "    <tr>\n",
              "      <th>242</th>\n",
              "      <td>None</td>\n",
              "      <td>None</td>\n",
              "      <td>None</td>\n",
              "      <td>None</td>\n",
              "      <td>None</td>\n",
              "      <td>None</td>\n",
              "      <td>None</td>\n",
              "      <td>None</td>\n",
              "      <td>None</td>\n",
              "      <td>https://www.amazon.es/Cecotec-Conga-Duostick-E...</td>\n",
              "      <td>None</td>\n",
              "    </tr>\n",
              "    <tr>\n",
              "      <th>243</th>\n",
              "      <td>None</td>\n",
              "      <td>None</td>\n",
              "      <td>None</td>\n",
              "      <td>None</td>\n",
              "      <td>None</td>\n",
              "      <td>None</td>\n",
              "      <td>None</td>\n",
              "      <td>None</td>\n",
              "      <td>None</td>\n",
              "      <td>https://www.amazon.es/Aspiradoras-Vertical-Asp...</td>\n",
              "      <td>None</td>\n",
              "    </tr>\n",
              "    <tr>\n",
              "      <th>244</th>\n",
              "      <td>None</td>\n",
              "      <td>None</td>\n",
              "      <td>None</td>\n",
              "      <td>None</td>\n",
              "      <td>None</td>\n",
              "      <td>None</td>\n",
              "      <td>None</td>\n",
              "      <td>None</td>\n",
              "      <td>None</td>\n",
              "      <td>https://www.amazon.es/Einhell-TC-VC-1812-seco-...</td>\n",
              "      <td>None</td>\n",
              "    </tr>\n",
              "    <tr>\n",
              "      <th>245</th>\n",
              "      <td>None</td>\n",
              "      <td>None</td>\n",
              "      <td>None</td>\n",
              "      <td>None</td>\n",
              "      <td>None</td>\n",
              "      <td>None</td>\n",
              "      <td>None</td>\n",
              "      <td>None</td>\n",
              "      <td>None</td>\n",
              "      <td>https://www.amazon.es/SAMBA-%C2%A1Aspirador-Si...</td>\n",
              "      <td>None</td>\n",
              "    </tr>\n",
              "    <tr>\n",
              "      <th>246</th>\n",
              "      <td>None</td>\n",
              "      <td>None</td>\n",
              "      <td>None</td>\n",
              "      <td>None</td>\n",
              "      <td>None</td>\n",
              "      <td>None</td>\n",
              "      <td>None</td>\n",
              "      <td>None</td>\n",
              "      <td>None</td>\n",
              "      <td>https://www.amazon.es/Rowenta-RO2727-City-Spac...</td>\n",
              "      <td>None</td>\n",
              "    </tr>\n",
              "    <tr>\n",
              "      <th>247</th>\n",
              "      <td>None</td>\n",
              "      <td>None</td>\n",
              "      <td>None</td>\n",
              "      <td>None</td>\n",
              "      <td>None</td>\n",
              "      <td>None</td>\n",
              "      <td>None</td>\n",
              "      <td>None</td>\n",
              "      <td>None</td>\n",
              "      <td>https://www.amazon.es/Philips-Fc9332-09-Aspira...</td>\n",
              "      <td>None</td>\n",
              "    </tr>\n",
              "    <tr>\n",
              "      <th>248</th>\n",
              "      <td>None</td>\n",
              "      <td>None</td>\n",
              "      <td>None</td>\n",
              "      <td>None</td>\n",
              "      <td>None</td>\n",
              "      <td>None</td>\n",
              "      <td>None</td>\n",
              "      <td>None</td>\n",
              "      <td>None</td>\n",
              "      <td>https://www.amazon.es/Cecotec-Aspirador-regula...</td>\n",
              "      <td>None</td>\n",
              "    </tr>\n",
              "    <tr>\n",
              "      <th>249</th>\n",
              "      <td>None</td>\n",
              "      <td>None</td>\n",
              "      <td>None</td>\n",
              "      <td>None</td>\n",
              "      <td>None</td>\n",
              "      <td>None</td>\n",
              "      <td>None</td>\n",
              "      <td>None</td>\n",
              "      <td>None</td>\n",
              "      <td>https://www.amazon.es/proscenic-Aspirador-Acce...</td>\n",
              "      <td>None</td>\n",
              "    </tr>\n",
              "    <tr>\n",
              "      <th>250</th>\n",
              "      <td>None</td>\n",
              "      <td>None</td>\n",
              "      <td>None</td>\n",
              "      <td>None</td>\n",
              "      <td>None</td>\n",
              "      <td>None</td>\n",
              "      <td>None</td>\n",
              "      <td>None</td>\n",
              "      <td>None</td>\n",
              "      <td>https://www.amazon.es/Taurus-Ultimate-Lithium-...</td>\n",
              "      <td>None</td>\n",
              "    </tr>\n",
              "    <tr>\n",
              "      <th>251</th>\n",
              "      <td>None</td>\n",
              "      <td>None</td>\n",
              "      <td>None</td>\n",
              "      <td>None</td>\n",
              "      <td>None</td>\n",
              "      <td>None</td>\n",
              "      <td>None</td>\n",
              "      <td>None</td>\n",
              "      <td>None</td>\n",
              "      <td>https://www.amazon.es/Polti-Forzaspira-C110_Pl...</td>\n",
              "      <td>None</td>\n",
              "    </tr>\n",
              "    <tr>\n",
              "      <th>252</th>\n",
              "      <td>None</td>\n",
              "      <td>None</td>\n",
              "      <td>None</td>\n",
              "      <td>None</td>\n",
              "      <td>None</td>\n",
              "      <td>None</td>\n",
              "      <td>None</td>\n",
              "      <td>None</td>\n",
              "      <td>None</td>\n",
              "      <td>https://www.amazon.es/HMHM174ABEU-Homasy-V4-In...</td>\n",
              "      <td>None</td>\n",
              "    </tr>\n",
              "    <tr>\n",
              "      <th>253</th>\n",
              "      <td>None</td>\n",
              "      <td>None</td>\n",
              "      <td>None</td>\n",
              "      <td>None</td>\n",
              "      <td>None</td>\n",
              "      <td>None</td>\n",
              "      <td>None</td>\n",
              "      <td>None</td>\n",
              "      <td>None</td>\n",
              "      <td>https://www.amazon.es/Dodocool-Aspirador-cicl%...</td>\n",
              "      <td>None</td>\n",
              "    </tr>\n",
              "    <tr>\n",
              "      <th>254</th>\n",
              "      <td>None</td>\n",
              "      <td>None</td>\n",
              "      <td>None</td>\n",
              "      <td>None</td>\n",
              "      <td>None</td>\n",
              "      <td>None</td>\n",
              "      <td>None</td>\n",
              "      <td>None</td>\n",
              "      <td>None</td>\n",
              "      <td>https://www.amazon.es/Aspiradora-Aspirador-Ino...</td>\n",
              "      <td>None</td>\n",
              "    </tr>\n",
              "    <tr>\n",
              "      <th>255</th>\n",
              "      <td>None</td>\n",
              "      <td>None</td>\n",
              "      <td>None</td>\n",
              "      <td>None</td>\n",
              "      <td>None</td>\n",
              "      <td>None</td>\n",
              "      <td>None</td>\n",
              "      <td>None</td>\n",
              "      <td>None</td>\n",
              "      <td>https://www.amazon.es/Rowenta-Compact-Power-Cy...</td>\n",
              "      <td>None</td>\n",
              "    </tr>\n",
              "    <tr>\n",
              "      <th>256</th>\n",
              "      <td>None</td>\n",
              "      <td>None</td>\n",
              "      <td>None</td>\n",
              "      <td>None</td>\n",
              "      <td>None</td>\n",
              "      <td>None</td>\n",
              "      <td>None</td>\n",
              "      <td>None</td>\n",
              "      <td>None</td>\n",
              "      <td>https://www.amazon.es/K%C3%A4rcher-WD3-Aspirad...</td>\n",
              "      <td>None</td>\n",
              "    </tr>\n",
              "    <tr>\n",
              "      <th>257</th>\n",
              "      <td>None</td>\n",
              "      <td>None</td>\n",
              "      <td>None</td>\n",
              "      <td>None</td>\n",
              "      <td>None</td>\n",
              "      <td>None</td>\n",
              "      <td>None</td>\n",
              "      <td>None</td>\n",
              "      <td>None</td>\n",
              "      <td>https://www.amazon.es/Cecotec-Conga-Duostick-E...</td>\n",
              "      <td>None</td>\n",
              "    </tr>\n",
              "    <tr>\n",
              "      <th>258</th>\n",
              "      <td>None</td>\n",
              "      <td>None</td>\n",
              "      <td>None</td>\n",
              "      <td>None</td>\n",
              "      <td>None</td>\n",
              "      <td>None</td>\n",
              "      <td>None</td>\n",
              "      <td>None</td>\n",
              "      <td>None</td>\n",
              "      <td>https://www.amazon.es/Aspiradoras-Vertical-Asp...</td>\n",
              "      <td>None</td>\n",
              "    </tr>\n",
              "    <tr>\n",
              "      <th>259</th>\n",
              "      <td>None</td>\n",
              "      <td>None</td>\n",
              "      <td>None</td>\n",
              "      <td>None</td>\n",
              "      <td>None</td>\n",
              "      <td>None</td>\n",
              "      <td>None</td>\n",
              "      <td>None</td>\n",
              "      <td>None</td>\n",
              "      <td>https://www.amazon.es/Einhell-TC-VC-1812-seco-...</td>\n",
              "      <td>None</td>\n",
              "    </tr>\n",
              "    <tr>\n",
              "      <th>260</th>\n",
              "      <td>None</td>\n",
              "      <td>None</td>\n",
              "      <td>None</td>\n",
              "      <td>None</td>\n",
              "      <td>None</td>\n",
              "      <td>None</td>\n",
              "      <td>None</td>\n",
              "      <td>None</td>\n",
              "      <td>None</td>\n",
              "      <td>https://www.amazon.es/SAMBA-%C2%A1Aspirador-Si...</td>\n",
              "      <td>None</td>\n",
              "    </tr>\n",
              "    <tr>\n",
              "      <th>261</th>\n",
              "      <td>None</td>\n",
              "      <td>None</td>\n",
              "      <td>None</td>\n",
              "      <td>None</td>\n",
              "      <td>None</td>\n",
              "      <td>None</td>\n",
              "      <td>None</td>\n",
              "      <td>None</td>\n",
              "      <td>None</td>\n",
              "      <td>https://www.amazon.es/Rowenta-RO2727-City-Spac...</td>\n",
              "      <td>None</td>\n",
              "    </tr>\n",
              "    <tr>\n",
              "      <th>262</th>\n",
              "      <td>None</td>\n",
              "      <td>None</td>\n",
              "      <td>None</td>\n",
              "      <td>None</td>\n",
              "      <td>None</td>\n",
              "      <td>None</td>\n",
              "      <td>None</td>\n",
              "      <td>None</td>\n",
              "      <td>None</td>\n",
              "      <td>https://www.amazon.es/Philips-Fc9332-09-Aspira...</td>\n",
              "      <td>None</td>\n",
              "    </tr>\n",
              "    <tr>\n",
              "      <th>263</th>\n",
              "      <td>None</td>\n",
              "      <td>None</td>\n",
              "      <td>None</td>\n",
              "      <td>None</td>\n",
              "      <td>None</td>\n",
              "      <td>None</td>\n",
              "      <td>None</td>\n",
              "      <td>None</td>\n",
              "      <td>None</td>\n",
              "      <td>https://www.amazon.es/Cecotec-Aspirador-regula...</td>\n",
              "      <td>None</td>\n",
              "    </tr>\n",
              "    <tr>\n",
              "      <th>264</th>\n",
              "      <td>None</td>\n",
              "      <td>None</td>\n",
              "      <td>None</td>\n",
              "      <td>None</td>\n",
              "      <td>None</td>\n",
              "      <td>None</td>\n",
              "      <td>None</td>\n",
              "      <td>None</td>\n",
              "      <td>None</td>\n",
              "      <td>https://www.amazon.es/proscenic-Aspirador-Acce...</td>\n",
              "      <td>None</td>\n",
              "    </tr>\n",
              "    <tr>\n",
              "      <th>265</th>\n",
              "      <td>None</td>\n",
              "      <td>None</td>\n",
              "      <td>None</td>\n",
              "      <td>None</td>\n",
              "      <td>None</td>\n",
              "      <td>None</td>\n",
              "      <td>None</td>\n",
              "      <td>None</td>\n",
              "      <td>None</td>\n",
              "      <td>https://www.amazon.es/Taurus-Ultimate-Lithium-...</td>\n",
              "      <td>None</td>\n",
              "    </tr>\n",
              "    <tr>\n",
              "      <th>266</th>\n",
              "      <td>None</td>\n",
              "      <td>None</td>\n",
              "      <td>None</td>\n",
              "      <td>None</td>\n",
              "      <td>None</td>\n",
              "      <td>None</td>\n",
              "      <td>None</td>\n",
              "      <td>None</td>\n",
              "      <td>None</td>\n",
              "      <td>https://www.amazon.es/Polti-Forzaspira-C110_Pl...</td>\n",
              "      <td>None</td>\n",
              "    </tr>\n",
              "    <tr>\n",
              "      <th>267</th>\n",
              "      <td>None</td>\n",
              "      <td>None</td>\n",
              "      <td>None</td>\n",
              "      <td>None</td>\n",
              "      <td>None</td>\n",
              "      <td>None</td>\n",
              "      <td>None</td>\n",
              "      <td>None</td>\n",
              "      <td>None</td>\n",
              "      <td>https://www.amazon.es/HMHM174ABEU-Homasy-V4-In...</td>\n",
              "      <td>None</td>\n",
              "    </tr>\n",
              "    <tr>\n",
              "      <th>268</th>\n",
              "      <td>None</td>\n",
              "      <td>None</td>\n",
              "      <td>None</td>\n",
              "      <td>None</td>\n",
              "      <td>None</td>\n",
              "      <td>None</td>\n",
              "      <td>None</td>\n",
              "      <td>None</td>\n",
              "      <td>None</td>\n",
              "      <td>https://www.amazon.es/Dodocool-Aspirador-cicl%...</td>\n",
              "      <td>None</td>\n",
              "    </tr>\n",
              "    <tr>\n",
              "      <th>269</th>\n",
              "      <td>None</td>\n",
              "      <td>None</td>\n",
              "      <td>None</td>\n",
              "      <td>None</td>\n",
              "      <td>None</td>\n",
              "      <td>None</td>\n",
              "      <td>None</td>\n",
              "      <td>None</td>\n",
              "      <td>None</td>\n",
              "      <td>https://www.amazon.es/Aspiradora-Aspirador-Ino...</td>\n",
              "      <td>None</td>\n",
              "    </tr>\n",
              "  </tbody>\n",
              "</table>\n",
              "<p>270 rows × 11 columns</p>\n",
              "</div>"
            ],
            "text/plain": [
              "                   color  ...      volumen\n",
              "0         Negro, Naranja  ...   1.5 litros\n",
              "1         Negro-amarillo  ...    17 litros\n",
              "2                  Verde  ...     1 litros\n",
              "3             Negro-gris  ...   0.6 litros\n",
              "4    Rot, Schwarz, Weiss  ...    12 litros\n",
              "5                   Azúl  ...   0.8 litros\n",
              "6           Azul, Marfil  ...   1.2 litros\n",
              "7                   None  ...         None\n",
              "8                   None  ...         None\n",
              "9                   None  ...         None\n",
              "10                  None  ...         None\n",
              "11                  None  ...         None\n",
              "12                  None  ...         None\n",
              "13                  None  ...         None\n",
              "14                 Negro  ...         None\n",
              "15        Negro, Naranja  ...   1.5 litros\n",
              "16        Negro-amarillo  ...    17 litros\n",
              "17                  None  ...         None\n",
              "18                  None  ...         None\n",
              "19                  None  ...         None\n",
              "20                  None  ...         None\n",
              "21                  None  ...         None\n",
              "22                  None  ...         None\n",
              "23            Multicolor  ...    15 litros\n",
              "24            Multicolor  ...    15 litros\n",
              "25                  None  ...         None\n",
              "26                  Rojo  ...     2 litros\n",
              "27                 Negro  ...   0.8 litros\n",
              "28                Blanco  ...  1.50 litros\n",
              "29                  None  ...         None\n",
              "..                   ...  ...          ...\n",
              "240                 None  ...         None\n",
              "241                 None  ...         None\n",
              "242                 None  ...         None\n",
              "243                 None  ...         None\n",
              "244                 None  ...         None\n",
              "245                 None  ...         None\n",
              "246                 None  ...         None\n",
              "247                 None  ...         None\n",
              "248                 None  ...         None\n",
              "249                 None  ...         None\n",
              "250                 None  ...         None\n",
              "251                 None  ...         None\n",
              "252                 None  ...         None\n",
              "253                 None  ...         None\n",
              "254                 None  ...         None\n",
              "255                 None  ...         None\n",
              "256                 None  ...         None\n",
              "257                 None  ...         None\n",
              "258                 None  ...         None\n",
              "259                 None  ...         None\n",
              "260                 None  ...         None\n",
              "261                 None  ...         None\n",
              "262                 None  ...         None\n",
              "263                 None  ...         None\n",
              "264                 None  ...         None\n",
              "265                 None  ...         None\n",
              "266                 None  ...         None\n",
              "267                 None  ...         None\n",
              "268                 None  ...         None\n",
              "269                 None  ...         None\n",
              "\n",
              "[270 rows x 11 columns]"
            ]
          },
          "metadata": {
            "tags": []
          },
          "execution_count": 35
        }
      ]
    },
    {
      "cell_type": "markdown",
      "metadata": {
        "id": "OF-7xvjcie83",
        "colab_type": "text"
      },
      "source": [
        "**Tratando la columna Peso**"
      ]
    },
    {
      "cell_type": "code",
      "metadata": {
        "id": "FmMtozdgj_pv",
        "colab_type": "code",
        "colab": {}
      },
      "source": [
        "import re\n",
        "peso = data_lista[['peso']]\n",
        "peso"
      ],
      "execution_count": 0,
      "outputs": []
    },
    {
      "cell_type": "code",
      "metadata": {
        "id": "jgYie0xUa2p4",
        "colab_type": "code",
        "colab": {}
      },
      "source": [
        "peso1 =peso.replace(regex=[' Kg'],value=\"\")\n",
        "#peso1"
      ],
      "execution_count": 0,
      "outputs": []
    },
    {
      "cell_type": "code",
      "metadata": {
        "id": "S5kqnpz3a5nt",
        "colab_type": "code",
        "colab": {}
      },
      "source": [
        "peso2 = peso1.replace(to_replace=[None],value=\"-1\")\n",
        "#peso2"
      ],
      "execution_count": 0,
      "outputs": []
    },
    {
      "cell_type": "code",
      "metadata": {
        "id": "nY9U4Qida_ea",
        "colab_type": "code",
        "colab": {}
      },
      "source": [
        "peso3 = peso2.replace(regex=[','],value=\".\")\n",
        "#peso3"
      ],
      "execution_count": 0,
      "outputs": []
    },
    {
      "cell_type": "code",
      "metadata": {
        "id": "Mb5PL39yjvYp",
        "colab_type": "code",
        "colab": {}
      },
      "source": [
        "#data_lista['peso'].str.contains(\" g\")"
      ],
      "execution_count": 0,
      "outputs": []
    },
    {
      "cell_type": "code",
      "metadata": {
        "id": "Lhw-SpHbbBZD",
        "colab_type": "code",
        "colab": {}
      },
      "source": [
        "peso4 = peso3.replace(to_replace=r'.+.g$', value='1', regex=True)\n",
        "#peso4"
      ],
      "execution_count": 0,
      "outputs": []
    },
    {
      "cell_type": "code",
      "metadata": {
        "id": "voa3BhVGbaLM",
        "colab_type": "code",
        "colab": {}
      },
      "source": [
        "import numpy as np\n",
        "peso5 = peso4.replace(\"-1\",np.nan)\n",
        "#peso5"
      ],
      "execution_count": 0,
      "outputs": []
    },
    {
      "cell_type": "code",
      "metadata": {
        "id": "nyC1PCfXcq0_",
        "colab_type": "code",
        "colab": {}
      },
      "source": [
        "data_lista['peso']=peso5"
      ],
      "execution_count": 0,
      "outputs": []
    },
    {
      "cell_type": "code",
      "metadata": {
        "id": "ZKyNtHlPc_mm",
        "colab_type": "code",
        "colab": {}
      },
      "source": [
        "data_lista['peso']=pd.to_numeric(data_lista['peso'])\n"
      ],
      "execution_count": 0,
      "outputs": []
    },
    {
      "cell_type": "code",
      "metadata": {
        "id": "6Eqr3WDReDqx",
        "colab_type": "code",
        "colab": {}
      },
      "source": [
        "data_lista"
      ],
      "execution_count": 0,
      "outputs": []
    },
    {
      "cell_type": "code",
      "metadata": {
        "id": "IABGpN69d89s",
        "colab_type": "code",
        "colab": {}
      },
      "source": [
        "data_lista.dtypes"
      ],
      "execution_count": 0,
      "outputs": []
    },
    {
      "cell_type": "code",
      "metadata": {
        "id": "_GM4n6Fye10k",
        "colab_type": "code",
        "colab": {}
      },
      "source": [
        "mean_peso=data_lista['peso'].mean()"
      ],
      "execution_count": 0,
      "outputs": []
    },
    {
      "cell_type": "code",
      "metadata": {
        "id": "0GD9HtpWfGuc",
        "colab_type": "code",
        "colab": {}
      },
      "source": [
        "data_lista['peso']=data_lista['peso'].fillna(mean_peso)"
      ],
      "execution_count": 0,
      "outputs": []
    },
    {
      "cell_type": "code",
      "metadata": {
        "id": "lkOd_MJJfxNv",
        "colab_type": "code",
        "colab": {}
      },
      "source": [
        "data_lista"
      ],
      "execution_count": 0,
      "outputs": []
    },
    {
      "cell_type": "code",
      "metadata": {
        "id": "ySyUAcpFgCXK",
        "colab_type": "code",
        "colab": {}
      },
      "source": [
        "data_lista['peso'].hist(bins=10)"
      ],
      "execution_count": 0,
      "outputs": []
    },
    {
      "cell_type": "code",
      "metadata": {
        "id": "inP3dNRFgvle",
        "colab_type": "code",
        "colab": {}
      },
      "source": [
        "data_lista"
      ],
      "execution_count": 0,
      "outputs": []
    },
    {
      "cell_type": "code",
      "metadata": {
        "id": "SEbF5_lQg9MM",
        "colab_type": "code",
        "colab": {}
      },
      "source": [
        "data_lista['peso'].describe()"
      ],
      "execution_count": 0,
      "outputs": []
    },
    {
      "cell_type": "markdown",
      "metadata": {
        "id": "3Pn5qhsi1Qnd",
        "colab_type": "text"
      },
      "source": [
        "**Tratando la columna Volumen**"
      ]
    },
    {
      "cell_type": "code",
      "metadata": {
        "id": "fiP7cAGyw0_q",
        "colab_type": "code",
        "colab": {}
      },
      "source": [
        "volumen = data_lista[['volumen']]"
      ],
      "execution_count": 0,
      "outputs": []
    },
    {
      "cell_type": "code",
      "metadata": {
        "id": "Weu4LFpoxVSk",
        "colab_type": "code",
        "colab": {}
      },
      "source": [
        "volumen1 = volumen.replace(regex=['litros'],value=\"\")\n",
        "volumen1"
      ],
      "execution_count": 0,
      "outputs": []
    },
    {
      "cell_type": "code",
      "metadata": {
        "id": "6jpmuxnrxXzT",
        "colab_type": "code",
        "colab": {}
      },
      "source": [
        "volumen2= volumen1.replace(to_replace=[None],value=\"-1\")\n",
        "#volumen2"
      ],
      "execution_count": 0,
      "outputs": []
    },
    {
      "cell_type": "code",
      "metadata": {
        "id": "3BChhjN8w8ZW",
        "colab_type": "code",
        "colab": {}
      },
      "source": [
        "volumen3=volumen2.replace(\"-1\",np.nan)\n",
        "#volumen3"
      ],
      "execution_count": 0,
      "outputs": []
    },
    {
      "cell_type": "code",
      "metadata": {
        "id": "5Hi-0YGcxv8x",
        "colab_type": "code",
        "colab": {}
      },
      "source": [
        "data_lista['volumen']=volumen3"
      ],
      "execution_count": 0,
      "outputs": []
    },
    {
      "cell_type": "code",
      "metadata": {
        "id": "lc73bQbtx0RL",
        "colab_type": "code",
        "colab": {}
      },
      "source": [
        "data_lista['volumen']=pd.to_numeric(data_lista['volumen'])"
      ],
      "execution_count": 0,
      "outputs": []
    },
    {
      "cell_type": "code",
      "metadata": {
        "id": "cVPMrhLkx5Ma",
        "colab_type": "code",
        "colab": {}
      },
      "source": [
        "data_lista"
      ],
      "execution_count": 0,
      "outputs": []
    },
    {
      "cell_type": "code",
      "metadata": {
        "id": "fDuHOEudx8hM",
        "colab_type": "code",
        "colab": {}
      },
      "source": [
        "mean_volumen=data_lista['volumen'].mean()\n",
        "mean_volumen"
      ],
      "execution_count": 0,
      "outputs": []
    },
    {
      "cell_type": "code",
      "metadata": {
        "id": "SR_WWASbyYKD",
        "colab_type": "code",
        "colab": {}
      },
      "source": [
        "data_lista['volumen']=data_lista['volumen'].fillna(mean_volumen)"
      ],
      "execution_count": 0,
      "outputs": []
    },
    {
      "cell_type": "code",
      "metadata": {
        "id": "xkLU7BdkydRB",
        "colab_type": "code",
        "colab": {}
      },
      "source": [
        "data_lista"
      ],
      "execution_count": 0,
      "outputs": []
    },
    {
      "cell_type": "code",
      "metadata": {
        "id": "82hMuuGoyhuw",
        "colab_type": "code",
        "colab": {}
      },
      "source": [
        "data_lista['volumen'].hist(bins=10)"
      ],
      "execution_count": 0,
      "outputs": []
    },
    {
      "cell_type": "code",
      "metadata": {
        "id": "m37uQWnyyr44",
        "colab_type": "code",
        "colab": {}
      },
      "source": [
        "data_lista.dtypes"
      ],
      "execution_count": 0,
      "outputs": []
    },
    {
      "cell_type": "code",
      "metadata": {
        "id": "V7jJqD7NzWQT",
        "colab_type": "code",
        "colab": {}
      },
      "source": [
        "data_lista['volumen'].describe()"
      ],
      "execution_count": 0,
      "outputs": []
    },
    {
      "cell_type": "code",
      "metadata": {
        "id": "tt6Sy7aMzbWd",
        "colab_type": "code",
        "colab": {}
      },
      "source": [
        "data_lista.potencia.unique()"
      ],
      "execution_count": 0,
      "outputs": []
    },
    {
      "cell_type": "markdown",
      "metadata": {
        "id": "H-E0Pw2V1UAs",
        "colab_type": "text"
      },
      "source": [
        "**Tratando la columna Potencia**"
      ]
    },
    {
      "cell_type": "code",
      "metadata": {
        "id": "K53krT5T3WmQ",
        "colab_type": "code",
        "colab": {}
      },
      "source": [
        "potencia= data_lista['potencia']"
      ],
      "execution_count": 0,
      "outputs": []
    },
    {
      "cell_type": "code",
      "metadata": {
        "id": "r4VkjHYn3b5l",
        "colab_type": "code",
        "colab": {}
      },
      "source": [
        "potencia1=potencia.replace(regex=['vatios'],value=\"\")\n",
        "#potencia1"
      ],
      "execution_count": 0,
      "outputs": []
    },
    {
      "cell_type": "code",
      "metadata": {
        "id": "sTREK89N3xAC",
        "colab_type": "code",
        "colab": {}
      },
      "source": [
        "potencia2 = potencia1.replace(to_replace=r'.+.kW$', value=\"-1\", regex=True)\n",
        "#potencia2"
      ],
      "execution_count": 0,
      "outputs": []
    },
    {
      "cell_type": "code",
      "metadata": {
        "id": "w7p1haVq3_Qa",
        "colab_type": "code",
        "colab": {}
      },
      "source": [
        "potencia3= potencia2.replace(to_replace=[None],value=\"-1\")\n",
        "#potencia3"
      ],
      "execution_count": 0,
      "outputs": []
    },
    {
      "cell_type": "code",
      "metadata": {
        "id": "jp7yS7-24Lo6",
        "colab_type": "code",
        "colab": {}
      },
      "source": [
        "potencia4=potencia3.replace(\"-1\",np.nan)\n",
        "#potencia4"
      ],
      "execution_count": 0,
      "outputs": []
    },
    {
      "cell_type": "code",
      "metadata": {
        "id": "XvG_a3NS4Trp",
        "colab_type": "code",
        "colab": {}
      },
      "source": [
        "data_lista['potencia']=potencia4"
      ],
      "execution_count": 0,
      "outputs": []
    },
    {
      "cell_type": "code",
      "metadata": {
        "id": "mmG-HJJv4VxE",
        "colab_type": "code",
        "colab": {}
      },
      "source": [
        "data_lista['potencia']=pd.to_numeric(data_lista['potencia'])"
      ],
      "execution_count": 0,
      "outputs": []
    },
    {
      "cell_type": "code",
      "metadata": {
        "id": "t6khysJ64e_t",
        "colab_type": "code",
        "colab": {}
      },
      "source": [
        "data_lista"
      ],
      "execution_count": 0,
      "outputs": []
    },
    {
      "cell_type": "code",
      "metadata": {
        "id": "BaNCLlOo4zeT",
        "colab_type": "code",
        "colab": {}
      },
      "source": [
        "mean_potencia=data_lista['potencia'].mean()"
      ],
      "execution_count": 0,
      "outputs": []
    },
    {
      "cell_type": "code",
      "metadata": {
        "id": "nA0twhXX4_Zr",
        "colab_type": "code",
        "colab": {}
      },
      "source": [
        "data_lista['potencia']=data_lista['potencia'].fillna(mean_potencia)"
      ],
      "execution_count": 0,
      "outputs": []
    },
    {
      "cell_type": "code",
      "metadata": {
        "id": "S5Nj6QXf5DqJ",
        "colab_type": "code",
        "colab": {}
      },
      "source": [
        "data_lista['potencia'].describe()"
      ],
      "execution_count": 0,
      "outputs": []
    },
    {
      "cell_type": "code",
      "metadata": {
        "id": "Kk_qJUfs5Sue",
        "colab_type": "code",
        "colab": {}
      },
      "source": [
        "data_lista.dtypes"
      ],
      "execution_count": 0,
      "outputs": []
    },
    {
      "cell_type": "markdown",
      "metadata": {
        "id": "EkTB4NOB1W0r",
        "colab_type": "text"
      },
      "source": [
        "**Tratando la columna dimensión**"
      ]
    },
    {
      "cell_type": "code",
      "metadata": {
        "id": "TU6XU-rR5uWG",
        "colab_type": "code",
        "colab": {}
      },
      "source": [
        "dimension1=data_lista['dimension']"
      ],
      "execution_count": 0,
      "outputs": []
    },
    {
      "cell_type": "code",
      "metadata": {
        "id": "7LgzrkrhpMFa",
        "colab_type": "code",
        "colab": {}
      },
      "source": [
        "dimension2=dimension1.replace(regex=['cm'],value=\"\")\n",
        "#dimension2"
      ],
      "execution_count": 0,
      "outputs": []
    },
    {
      "cell_type": "code",
      "metadata": {
        "id": "FcO49K4ApVDj",
        "colab_type": "code",
        "colab": {}
      },
      "source": [
        "dimension3=dimension2.replace(regex=[','],value=\".\")\n",
        "#dimension3"
      ],
      "execution_count": 0,
      "outputs": []
    },
    {
      "cell_type": "code",
      "metadata": {
        "id": "fiuHKmzjriX8",
        "colab_type": "code",
        "colab": {}
      },
      "source": [
        "dimension4=dimension3.str.split(\"x\", n = 3, expand = True) \n",
        "#dimension4"
      ],
      "execution_count": 0,
      "outputs": []
    },
    {
      "cell_type": "code",
      "metadata": {
        "id": "bd-29l4ZrtPx",
        "colab_type": "code",
        "colab": {}
      },
      "source": [
        "data_lista['ancho']=dimension4[0]\n",
        "data_lista['alto']=dimension4[1]\n",
        "data_lista['profundidad']=dimension4[2]"
      ],
      "execution_count": 0,
      "outputs": []
    },
    {
      "cell_type": "code",
      "metadata": {
        "id": "scyB0KDIsc7N",
        "colab_type": "code",
        "colab": {}
      },
      "source": [
        "data_lista"
      ],
      "execution_count": 0,
      "outputs": []
    },
    {
      "cell_type": "markdown",
      "metadata": {
        "id": "Kf_DfL3j1ZMc",
        "colab_type": "text"
      },
      "source": [
        "**Tratando la columna Opiniones**"
      ]
    },
    {
      "cell_type": "code",
      "metadata": {
        "id": "boU3ajtps3rS",
        "colab_type": "code",
        "colab": {}
      },
      "source": [
        "opiniones = data_lista['opiniones']"
      ],
      "execution_count": 0,
      "outputs": []
    },
    {
      "cell_type": "code",
      "metadata": {
        "id": "8v-la-Oxs6gy",
        "colab_type": "code",
        "colab": {}
      },
      "source": [
        "opiniones1 = opiniones.replace(regex=['opiniones de clientes'],value=\"\")\n",
        "opiniones1"
      ],
      "execution_count": 0,
      "outputs": []
    },
    {
      "cell_type": "code",
      "metadata": {
        "id": "Ps1lOumQt_KI",
        "colab_type": "code",
        "colab": {}
      },
      "source": [
        "opiniones2 = opiniones1.replace(regex=[','],value=\".\")\n",
        "opiniones2"
      ],
      "execution_count": 0,
      "outputs": []
    },
    {
      "cell_type": "code",
      "metadata": {
        "id": "7PQTkCRltBho",
        "colab_type": "code",
        "colab": {}
      },
      "source": [
        "data_lista[\"opiniones\"]=opiniones2"
      ],
      "execution_count": 0,
      "outputs": []
    },
    {
      "cell_type": "markdown",
      "metadata": {
        "id": "pAhmzznA1uTZ",
        "colab_type": "text"
      },
      "source": [
        "**Tratando la columna precio**"
      ]
    },
    {
      "cell_type": "code",
      "metadata": {
        "id": "KkmHw08ntIeB",
        "colab_type": "code",
        "colab": {}
      },
      "source": [
        "precio = data_lista[\"precio\"]"
      ],
      "execution_count": 0,
      "outputs": []
    },
    {
      "cell_type": "code",
      "metadata": {
        "id": "-nvnbJQYtRzr",
        "colab_type": "code",
        "colab": {}
      },
      "source": [
        "precio1 = precio.replace(regex=[\",\"],value=\".\")\n",
        "precio1"
      ],
      "execution_count": 0,
      "outputs": []
    },
    {
      "cell_type": "code",
      "metadata": {
        "id": "PIavHrsLtaI4",
        "colab_type": "code",
        "colab": {}
      },
      "source": [
        "precio2 = precio1.replace(regex=[\"€\"],value=\"\")\n",
        "precio2"
      ],
      "execution_count": 0,
      "outputs": []
    },
    {
      "cell_type": "code",
      "metadata": {
        "id": "3VZ92eBdtnbS",
        "colab_type": "code",
        "colab": {}
      },
      "source": [
        "data_lista[\"precio\"]=precio2"
      ],
      "execution_count": 0,
      "outputs": []
    },
    {
      "cell_type": "code",
      "metadata": {
        "id": "GL7y-pnOtwQx",
        "colab_type": "code",
        "colab": {}
      },
      "source": [
        "data_lista.dtypes"
      ],
      "execution_count": 0,
      "outputs": []
    },
    {
      "cell_type": "markdown",
      "metadata": {
        "id": "v7Z5Oa9S1xOZ",
        "colab_type": "text"
      },
      "source": [
        "**Convirtiendo a tipo numérico los campos**"
      ]
    },
    {
      "cell_type": "code",
      "metadata": {
        "id": "KL0-Ke3ztviM",
        "colab_type": "code",
        "colab": {}
      },
      "source": [
        "data_lista['ancho']=pd.to_numeric(data_lista['ancho'])\n",
        "data_lista['alto']=pd.to_numeric(data_lista['alto'])\n",
        "data_lista['profundidad']=pd.to_numeric(data_lista['profundidad'])\n",
        "data_lista['opiniones']=pd.to_numeric(data_lista['opiniones'])\n",
        "data_lista['precio']=pd.to_numeric(data_lista['precio'])"
      ],
      "execution_count": 0,
      "outputs": []
    },
    {
      "cell_type": "code",
      "metadata": {
        "id": "otckR4zAuG2_",
        "colab_type": "code",
        "colab": {}
      },
      "source": [
        "data_lista"
      ],
      "execution_count": 0,
      "outputs": []
    },
    {
      "cell_type": "code",
      "metadata": {
        "id": "T_RsDmFOuKrh",
        "colab_type": "code",
        "colab": {}
      },
      "source": [
        "del data_lista['dimension']"
      ],
      "execution_count": 0,
      "outputs": []
    },
    {
      "cell_type": "code",
      "metadata": {
        "id": "7iWcbyGy44Dk",
        "colab_type": "code",
        "colab": {}
      },
      "source": [
        "data_lista"
      ],
      "execution_count": 0,
      "outputs": []
    },
    {
      "cell_type": "code",
      "metadata": {
        "id": "8mD9tw965_wU",
        "colab_type": "code",
        "colab": {}
      },
      "source": [
        "data_lista['marca'].str.match('None')"
      ],
      "execution_count": 0,
      "outputs": []
    },
    {
      "cell_type": "code",
      "metadata": {
        "id": "th1aApOy9w_4",
        "colab_type": "code",
        "colab": {}
      },
      "source": [
        "data_lista.count(axis=0)"
      ],
      "execution_count": 0,
      "outputs": []
    },
    {
      "cell_type": "code",
      "metadata": {
        "id": "uVGiUiz7AZHT",
        "colab_type": "code",
        "colab": {}
      },
      "source": [
        "data_lista"
      ],
      "execution_count": 0,
      "outputs": []
    },
    {
      "cell_type": "code",
      "metadata": {
        "id": "hmSWbEpH_oS1",
        "colab_type": "code",
        "colab": {}
      },
      "source": [
        "data_lista2 = data_lista.dropna(how='any', subset=['ancho'])"
      ],
      "execution_count": 0,
      "outputs": []
    },
    {
      "cell_type": "markdown",
      "metadata": {
        "id": "s_sD5Ta212uv",
        "colab_type": "text"
      },
      "source": [
        "**Tabla limpia**"
      ]
    },
    {
      "cell_type": "code",
      "metadata": {
        "id": "DYiIt2F8CPan",
        "colab_type": "code",
        "colab": {}
      },
      "source": [
        "data_lista2"
      ],
      "execution_count": 0,
      "outputs": []
    },
    {
      "cell_type": "code",
      "metadata": {
        "id": "0C6c1nvEEMK8",
        "colab_type": "code",
        "colab": {}
      },
      "source": [
        "data_lista2.drop(columns=['color','marca','modelo','titulo','url'],axis=1)"
      ],
      "execution_count": 0,
      "outputs": []
    }
  ]
}